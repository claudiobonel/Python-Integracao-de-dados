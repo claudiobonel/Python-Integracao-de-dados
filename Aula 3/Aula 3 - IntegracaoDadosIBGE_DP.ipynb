{
 "cells": [
  {
   "cell_type": "code",
   "execution_count": 2,
   "id": "fb814294",
   "metadata": {},
   "outputs": [],
   "source": [
    "import pandas as pd\n",
    "from datetime import datetime\n",
    "from pathlib import Path\n",
    "import sqlite3 as sql"
   ]
  },
  {
   "cell_type": "code",
   "execution_count": 3,
   "id": "01d4c291",
   "metadata": {},
   "outputs": [],
   "source": [
    "dtCarga = datetime.today().strftime('%d/%m/%Y %H:%M')"
   ]
  },
  {
   "cell_type": "markdown",
   "id": "fa6d8486",
   "metadata": {},
   "source": [
    "# COLETA DE DADOS DO SITE DO IBGE"
   ]
  },
  {
   "cell_type": "code",
   "execution_count": 4,
   "id": "bd33766d",
   "metadata": {},
   "outputs": [],
   "source": [
    "#COLETANDO DADOS DO IBGE\n",
    "url = 'https://www.ibge.gov.br/explica/codigos-dos-municipios.php#RJ'\n",
    "\n",
    "DadosIBGE = pd.DataFrame(pd.read_html(url, match=\"Municípios do Rio de Janeiro\")[0])\n",
    "\n",
    "#RENOMEAR COLUNAS DO DF\n",
    "DadosIBGE = DadosIBGE.rename(columns={'Municípios do Rio de Janeiro':'nmMunic','Códigos':'codMunic'})\n",
    "\n",
    "#ALTERANDO NOME DO INDEX\n",
    "DadosIBGE.index.name = 'idMunic'\n",
    "\n",
    "#ALTERANDO INDEX PRA COMEÇAR EM 1\n",
    "DadosIBGE.index = DadosIBGE.index + 1\n",
    "\n",
    "#ADICIONAR UM COLUNA DE DATA E HORA DE CARGA\n",
    "DadosIBGE['dtCarga'] = dtCarga\n",
    "\n",
    "#DadosIBGE"
   ]
  },
  {
   "cell_type": "markdown",
   "id": "280e4d7c",
   "metadata": {},
   "source": [
    "# CRIANDO O BANCO DE DADOS ODS"
   ]
  },
  {
   "cell_type": "code",
   "execution_count": 5,
   "id": "8d8d9226",
   "metadata": {},
   "outputs": [
    {
     "name": "stdout",
     "output_type": "stream",
     "text": [
      "Bancos de dados já existem!\n"
     ]
    }
   ],
   "source": [
    "#Manipulando o sistema de arquivos\n",
    "endereco = Path('C:\\\\Users\\\\claud\\\\OneDrive\\\\Claudio Bonel-DADOTECA\\\\Projetos Sociais\\\\Projeto Dado Humanizado\\\\Pascoa com Dados\\\\')\n",
    "\n",
    "BDODS = endereco / \"pascoaODS.db\"\n",
    "BDDW = endereco / \"pascoaDW.db\"\n",
    "\n",
    "if endereco.exists():\n",
    "    if (BDODS.exists() and BDDW.exists()):\n",
    "        print('Bancos de dados já existem!')\n",
    "    else:\n",
    "        BDODS.touch()\n",
    "        BDDW.touch()\n",
    "        print('Bancos de dados criados!')\n",
    "else:\n",
    "    print('Endereço não existe! Favor, verificar!')\n",
    "        "
   ]
  },
  {
   "cell_type": "markdown",
   "id": "68fdf82f",
   "metadata": {},
   "source": [
    "# MANIPULANDO OS BANCOS DE DADOS CRIADOS"
   ]
  },
  {
   "cell_type": "code",
   "execution_count": 6,
   "id": "b01ec810",
   "metadata": {},
   "outputs": [
    {
     "name": "stdout",
     "output_type": "stream",
     "text": [
      "Carga do BDODS concluída!\n"
     ]
    }
   ],
   "source": [
    "#Conectar no BDODS\n",
    "conexaoODS = sql.connect(BDODS)\n",
    "\n",
    "#Criar a tabela tbLogMunic e carregar os dados do DF DadosIBGE\n",
    "DadosIBGE.to_sql('tbLogMunic',conexaoODS,if_exists=\"append\")\n",
    "\n",
    "#Confirmar a transação\n",
    "conexaoODS.commit()\n",
    "\n",
    "#Fechar a conexão\n",
    "conexaoODS.close()\n",
    "\n",
    "print('Carga do BDODS concluída!')"
   ]
  },
  {
   "cell_type": "code",
   "execution_count": 7,
   "id": "88da0892",
   "metadata": {},
   "outputs": [
    {
     "name": "stdout",
     "output_type": "stream",
     "text": [
      "Carga do DW concluída!\n"
     ]
    }
   ],
   "source": [
    "#Conectar no BDDW\n",
    "conexaoDW = sql.connect(BDDW)\n",
    "\n",
    "#Selecionar somente as colunas para criação da dMunicipio\n",
    "DadosIBGE = DadosIBGE[['nmMunic','codMunic']]\n",
    "\n",
    "#Criar a tabela dMunicipio e carregar os dados do DF DadosIBGE\n",
    "DadosIBGE.to_sql('dMunicipio',conexaoDW,if_exists=\"replace\")\n",
    "\n",
    "#Confirmar a transação\n",
    "conexaoDW.commit()\n",
    "\n",
    "#Fechar a conexão\n",
    "conexaoDW.close()\n",
    "\n",
    "print('Carga do DW concluída!')"
   ]
  },
  {
   "cell_type": "markdown",
   "id": "8b07eddd",
   "metadata": {},
   "source": [
    "# CARGA DOS DADOS DE CADASTRO DAS DELEGACIAS DE POLÍCIA"
   ]
  },
  {
   "cell_type": "code",
   "execution_count": 8,
   "id": "437f18ea",
   "metadata": {},
   "outputs": [],
   "source": [
    "#Definir o endereço físico do arquivo CSV\n",
    "LocalArquivo = \"C:\\\\Users\\\\claud\\\\OneDrive\\\\Claudio Bonel-DADOTECA\\\\CEPERJ\\\\Aulas\\\\Dados\\\\DADOS_POS\\\\\"\n",
    "\n",
    "#Criar Data Frame com os dados das DPs\n",
    "tbLogDP = pd.DataFrame(pd.read_csv(LocalArquivo + \"DP.csv\"))\n",
    "\n",
    "#Criando coluna com a data da carga\n",
    "tbLogDP['dtCarga'] = dtCarga\n",
    "\n",
    "#selecionando a coluna COD_DP como novo index\n",
    "#tbLogDP = tbLogDP.set_index(\"COD_DP\")"
   ]
  },
  {
   "cell_type": "markdown",
   "id": "b434fa70",
   "metadata": {},
   "source": [
    "# CARGA DOS DADOS DE CADASTRO DOS RESPONSÁVEIS PELAS DELEGACIAS DE POLÍCIA"
   ]
  },
  {
   "cell_type": "code",
   "execution_count": 9,
   "id": "5e025ac6",
   "metadata": {},
   "outputs": [],
   "source": [
    "#Criar Data Frame com os dados dos responsáveis pelas DPs\n",
    "tbLogRespDP = pd.DataFrame(pd.read_csv(LocalArquivo + \"ResponsavelDP.csv\"))\n",
    "\n",
    "#Criando coluna com a data da carga\n",
    "tbLogRespDP['dtCarga'] = dtCarga\n",
    "\n",
    "#selecionando a coluna COD_DP como novo index\n",
    "#tbLogRespDP = tbLogRespDP.set_index(\"COD_DP\")"
   ]
  },
  {
   "cell_type": "markdown",
   "id": "049ae530",
   "metadata": {},
   "source": [
    "# CONECTANDO NO ODS E INFORMANDO AO PYTHON QUE USAREI LINGUAGEM SQL"
   ]
  },
  {
   "cell_type": "code",
   "execution_count": 10,
   "id": "c6c50428",
   "metadata": {},
   "outputs": [],
   "source": [
    "#Conectar no BDODS\n",
    "conexaoODS = sql.connect(BDODS)\n",
    "\n",
    "#Definição de manipulação de dados em SQL\n",
    "SQL_ODS = conexaoODS.cursor()"
   ]
  },
  {
   "cell_type": "markdown",
   "id": "1c9f425d",
   "metadata": {},
   "source": [
    "# INSERINDO DADOS DAS DELEGACIAS DE POLÍCIA, NO SQLITE (ODS) "
   ]
  },
  {
   "cell_type": "code",
   "execution_count": 11,
   "id": "ffe7af5b",
   "metadata": {},
   "outputs": [
    {
     "name": "stdout",
     "output_type": "stream",
     "text": [
      "Iniciando a inserção de dados na tabela tbLogDP.\n",
      "-------------------------------------------------\n",
      "Carga finalizada! 137 registros inseridos na tbLogDP!\n"
     ]
    }
   ],
   "source": [
    "#Inserindo registros na tabela tbLogDP\n",
    "print(\"Iniciando a inserção de dados na tabela tbLogDP.\")\n",
    "print(\"-------------------------------------------------\")\n",
    "\n",
    "SQL_ODS.executemany('''INSERT INTO tbLogDP (codDP,nmDP,endereco,dtCarga) VALUES (?,?,?,?)''',tbLogDP.values.tolist())\n",
    "\n",
    "#confirmar a transação\n",
    "conexaoODS.commit()\n",
    "\n",
    "#Exibir uma mensagem de conclusão de carga\n",
    "print(\"Carga finalizada!\",len(tbLogDP), \"registros inseridos na tbLogDP!\")"
   ]
  },
  {
   "cell_type": "markdown",
   "id": "29d4babd",
   "metadata": {},
   "source": [
    "# INSERINDO DADOS DOS RESPONSÁVEIS PELAS DELEGACIAS DE POLÍCIA, NO SQLITE (ODS) "
   ]
  },
  {
   "cell_type": "code",
   "execution_count": 12,
   "id": "e09ab3d0",
   "metadata": {},
   "outputs": [
    {
     "name": "stdout",
     "output_type": "stream",
     "text": [
      "Iniciando a inserção de dados na tabela tbLogRespDP.\n",
      "-------------------------------------------------\n",
      "Carga finalizada! 137 registros inseridos na tbLogDP!\n"
     ]
    }
   ],
   "source": [
    "#Inserindo registros na tabela tbLogDP\n",
    "print(\"Iniciando a inserção de dados na tabela tbLogRespDP.\")\n",
    "print(\"-------------------------------------------------\")\n",
    "\n",
    "SQL_ODS.executemany('''INSERT INTO tbLogRespDP (codDP,nmResponsavel,dtCarga) VALUES (?,?,?)''',tbLogRespDP.values.tolist())\n",
    "\n",
    "#confirmar a transação\n",
    "conexaoODS.commit()\n",
    "\n",
    "#Exibir uma mensagem de conclusão de carga\n",
    "print(\"Carga finalizada!\",len(tbLogRespDP), \"registros inseridos na tbLogDP!\")"
   ]
  },
  {
   "cell_type": "markdown",
   "id": "7bc111e9",
   "metadata": {},
   "source": [
    "# VALIDANDO CARGA DOS DADOS DE DP E DE RESPONSÁVEL DP"
   ]
  },
  {
   "cell_type": "code",
   "execution_count": 13,
   "id": "1d2fe1eb",
   "metadata": {},
   "outputs": [],
   "source": [
    "#validar a carga através de um select na tblogDP\n",
    "#pd.read_sql(\"SELECT * FROM tbLogDP\",conexaoODS)"
   ]
  },
  {
   "cell_type": "code",
   "execution_count": 14,
   "id": "3450239c",
   "metadata": {},
   "outputs": [],
   "source": [
    "#validar a carga através de um select na tblogRespDP\n",
    "#pd.read_sql(\"SELECT * FROM tbLogRespDP\",conexaoODS)"
   ]
  },
  {
   "cell_type": "markdown",
   "id": "5ea3cd64",
   "metadata": {},
   "source": [
    "# CRIANDO O DATAFRAME COM O SELECT DE CRIAÇÃO DA DIMENSÃO DP (dDP), NO DW"
   ]
  },
  {
   "cell_type": "code",
   "execution_count": 15,
   "id": "3e5a502c",
   "metadata": {},
   "outputs": [],
   "source": [
    "#Definir a query de criação da dimensão dDP\n",
    "\n",
    "qry_dDP = '''\n",
    "    SELECT \n",
    "        codDP,\n",
    "        nmDP,\n",
    "        endereco,\n",
    "        nmResponsavel\n",
    "    FROM\n",
    "    (\n",
    "        SELECT\n",
    "            a.codDP,\n",
    "            a.nmDP,\n",
    "            a.endereco,\n",
    "            b.nmResponsavel,\n",
    "            max(a.dtCarga)\n",
    "        FROM tbLogDP a\n",
    "        JOIN tbLogRespDP b\n",
    "        on a.codDP = b.codDP\n",
    "        GROUP BY\n",
    "            a.codDP,\n",
    "            a.nmDP,\n",
    "            a.endereco,\n",
    "            b.nmResponsavel\n",
    "    ) a\n",
    "'''\n",
    "\n",
    "dDP = pd.read_sql(qry_dDP,conexaoODS)"
   ]
  },
  {
   "cell_type": "markdown",
   "id": "c577ee97",
   "metadata": {},
   "source": [
    "# FECHANDO A CONEXÃO COM O ODS"
   ]
  },
  {
   "cell_type": "code",
   "execution_count": 16,
   "id": "35f49f77",
   "metadata": {},
   "outputs": [],
   "source": [
    "#Confirmar a transação\n",
    "conexaoODS.commit()\n",
    "\n",
    "#Fechar a conexão\n",
    "conexaoODS.close()"
   ]
  },
  {
   "cell_type": "markdown",
   "id": "d2b4dddc",
   "metadata": {},
   "source": [
    "# CONECTANDO NO DW E INFORMANDO AO PYTHON QUE USAREI LINGUAGEM SQL"
   ]
  },
  {
   "cell_type": "code",
   "execution_count": 29,
   "id": "9fa0b30b",
   "metadata": {},
   "outputs": [],
   "source": [
    "#Conectar no BDODS\n",
    "conexaoDW = sql.connect(BDDW)\n",
    "\n",
    "#Definição de manipulação de dados em SQL\n",
    "SQL_DW = conexaoDW.cursor()"
   ]
  },
  {
   "cell_type": "markdown",
   "id": "edfba2ec",
   "metadata": {},
   "source": [
    "# DELETANDO DADOS ANTIGOS E REINICIANDO AO AUTOINCREMENTAL DA CHAVE"
   ]
  },
  {
   "cell_type": "code",
   "execution_count": 30,
   "id": "26c791ce",
   "metadata": {},
   "outputs": [],
   "source": [
    "#Deletar os dados atuais\n",
    "SQL_DW.execute(\"DELETE FROM dDP\")\n",
    "\n",
    "#Reiniciando o autoincramental da chave\n",
    "SQL_DW.execute(\"UPDATE sqlite_sequence SET seq=0 WHERE name='dDP'\")\n",
    "\n",
    "#Confirmar a transação\n",
    "conexaoDW.commit()"
   ]
  },
  {
   "cell_type": "markdown",
   "id": "29e6e44f",
   "metadata": {},
   "source": [
    "# INSERINDO DADOS NA DIMENSÃO DP (dDP), NO DW"
   ]
  },
  {
   "cell_type": "code",
   "execution_count": 31,
   "id": "bd4a8d7e",
   "metadata": {},
   "outputs": [
    {
     "name": "stdout",
     "output_type": "stream",
     "text": [
      "Iniciando a inserção de dados na tabela dDP.\n",
      "-------------------------------------------------\n",
      "Carga finalizada! 137 registros inseridos na tbLogDP!\n"
     ]
    }
   ],
   "source": [
    "#Inserindo registros na tabela dDP\n",
    "print(\"Iniciando a inserção de dados na tabela dDP.\")\n",
    "print(\"-------------------------------------------------\")\n",
    "\n",
    "SQL_DW.executemany('''INSERT INTO dDP (codDP,nmDP,endereco,nmResponsavel) VALUES (?,?,?,?)''',dDP.values.tolist())\n",
    "\n",
    "#confirmar a transação\n",
    "conexaoDW.commit()\n",
    "\n",
    "#Exibir uma mensagem de conclusão de carga\n",
    "print(\"Carga finalizada!\",len(dDP), \"registros inseridos na tbLogDP!\")"
   ]
  },
  {
   "cell_type": "markdown",
   "id": "b6ec359c",
   "metadata": {},
   "source": [
    "# VALIDANDO CARGA DOS DADOS DA DIMENSÃO DP (dDP)"
   ]
  },
  {
   "cell_type": "code",
   "execution_count": 32,
   "id": "a7faf0a4",
   "metadata": {},
   "outputs": [
    {
     "data": {
      "text/html": [
       "<div>\n",
       "<style scoped>\n",
       "    .dataframe tbody tr th:only-of-type {\n",
       "        vertical-align: middle;\n",
       "    }\n",
       "\n",
       "    .dataframe tbody tr th {\n",
       "        vertical-align: top;\n",
       "    }\n",
       "\n",
       "    .dataframe thead th {\n",
       "        text-align: right;\n",
       "    }\n",
       "</style>\n",
       "<table border=\"1\" class=\"dataframe\">\n",
       "  <thead>\n",
       "    <tr style=\"text-align: right;\">\n",
       "      <th></th>\n",
       "      <th>idDP</th>\n",
       "      <th>codDP</th>\n",
       "      <th>nmDP</th>\n",
       "      <th>endereco</th>\n",
       "      <th>nmResponsavel</th>\n",
       "    </tr>\n",
       "  </thead>\n",
       "  <tbody>\n",
       "    <tr>\n",
       "      <th>0</th>\n",
       "      <td>1</td>\n",
       "      <td>1</td>\n",
       "      <td>001ª DP - Praça Mauá</td>\n",
       "      <td>Atendendo provisoriamente na sede da 4ª DP - P...</td>\n",
       "      <td>Delegado de Polícia José Luiz Silva Duarte</td>\n",
       "    </tr>\n",
       "    <tr>\n",
       "      <th>1</th>\n",
       "      <td>2</td>\n",
       "      <td>4</td>\n",
       "      <td>004ª DP - Praça da República</td>\n",
       "      <td>Av. Presidente Vargas, 1100 - Centro, Rio de J...</td>\n",
       "      <td>Delegada de Polícia Patricia de Paiva Aguiar</td>\n",
       "    </tr>\n",
       "    <tr>\n",
       "      <th>2</th>\n",
       "      <td>3</td>\n",
       "      <td>5</td>\n",
       "      <td>005ª DP - Mem de Sá</td>\n",
       "      <td>Avenida Gomes Freire, 320 - Centro, Rio de Jan...</td>\n",
       "      <td>Delegado de Polícia Bruno Gilaberte Freitas</td>\n",
       "    </tr>\n",
       "    <tr>\n",
       "      <th>3</th>\n",
       "      <td>4</td>\n",
       "      <td>6</td>\n",
       "      <td>006ª DP - Cidade Nova</td>\n",
       "      <td>Rua Professor Clementino Fraga, 77 - Centro, R...</td>\n",
       "      <td>Delegado de Polícia Fabio Luiz Da Silva Souza</td>\n",
       "    </tr>\n",
       "    <tr>\n",
       "      <th>4</th>\n",
       "      <td>5</td>\n",
       "      <td>7</td>\n",
       "      <td>007ª DP - Santa Teresa</td>\n",
       "      <td>Rua Francisco de Castro, 5 - Santa Teresa, Rio...</td>\n",
       "      <td>Delegado de Polícia Carlos Alberto Meirelles D...</td>\n",
       "    </tr>\n",
       "    <tr>\n",
       "      <th>...</th>\n",
       "      <td>...</td>\n",
       "      <td>...</td>\n",
       "      <td>...</td>\n",
       "      <td>...</td>\n",
       "      <td>...</td>\n",
       "    </tr>\n",
       "    <tr>\n",
       "      <th>132</th>\n",
       "      <td>133</td>\n",
       "      <td>159</td>\n",
       "      <td>159ª DP - Cachoeira de Macacu</td>\n",
       "      <td>Avenida Lord Baden Powel, 93 - Centro, Cachoei...</td>\n",
       "      <td>Delegado de Polícia Clovis Souza Moreira</td>\n",
       "    </tr>\n",
       "    <tr>\n",
       "      <th>133</th>\n",
       "      <td>134</td>\n",
       "      <td>165</td>\n",
       "      <td>165ª DP - Mangaratiba</td>\n",
       "      <td>Estrada São João Marcos, s/n - Praia do Saco, ...</td>\n",
       "      <td>Delegado de Polícia Anderson Ribeiro Pinto</td>\n",
       "    </tr>\n",
       "    <tr>\n",
       "      <th>134</th>\n",
       "      <td>135</td>\n",
       "      <td>166</td>\n",
       "      <td>166ª DP - Angra dos Reis</td>\n",
       "      <td>Rua Doutor Coutinho, 6 - Centro, Angra dos Rei...</td>\n",
       "      <td>Delegado de Polícia Vilson de Almeida Silva</td>\n",
       "    </tr>\n",
       "    <tr>\n",
       "      <th>135</th>\n",
       "      <td>136</td>\n",
       "      <td>167</td>\n",
       "      <td>167ª DP - Paraty</td>\n",
       "      <td>Rua Roberto da Silveira , s/n - Vila Colonial,...</td>\n",
       "      <td>Delegado de Polícia Marcelo dos Santos Haddad</td>\n",
       "    </tr>\n",
       "    <tr>\n",
       "      <th>136</th>\n",
       "      <td>137</td>\n",
       "      <td>168</td>\n",
       "      <td>168ª DP - Rio Claro</td>\n",
       "      <td>Praça Fagundes Vahera, 62, Rio Claro, Rio de J...</td>\n",
       "      <td>Delegado de Polícia Francisco Benitez Lopes</td>\n",
       "    </tr>\n",
       "  </tbody>\n",
       "</table>\n",
       "<p>137 rows × 5 columns</p>\n",
       "</div>"
      ],
      "text/plain": [
       "     idDP  codDP                           nmDP  \\\n",
       "0       1      1           001ª DP - Praça Mauá   \n",
       "1       2      4   004ª DP - Praça da República   \n",
       "2       3      5            005ª DP - Mem de Sá   \n",
       "3       4      6          006ª DP - Cidade Nova   \n",
       "4       5      7         007ª DP - Santa Teresa   \n",
       "..    ...    ...                            ...   \n",
       "132   133    159  159ª DP - Cachoeira de Macacu   \n",
       "133   134    165          165ª DP - Mangaratiba   \n",
       "134   135    166       166ª DP - Angra dos Reis   \n",
       "135   136    167               167ª DP - Paraty   \n",
       "136   137    168            168ª DP - Rio Claro   \n",
       "\n",
       "                                              endereco  \\\n",
       "0    Atendendo provisoriamente na sede da 4ª DP - P...   \n",
       "1    Av. Presidente Vargas, 1100 - Centro, Rio de J...   \n",
       "2    Avenida Gomes Freire, 320 - Centro, Rio de Jan...   \n",
       "3    Rua Professor Clementino Fraga, 77 - Centro, R...   \n",
       "4    Rua Francisco de Castro, 5 - Santa Teresa, Rio...   \n",
       "..                                                 ...   \n",
       "132  Avenida Lord Baden Powel, 93 - Centro, Cachoei...   \n",
       "133  Estrada São João Marcos, s/n - Praia do Saco, ...   \n",
       "134  Rua Doutor Coutinho, 6 - Centro, Angra dos Rei...   \n",
       "135  Rua Roberto da Silveira , s/n - Vila Colonial,...   \n",
       "136  Praça Fagundes Vahera, 62, Rio Claro, Rio de J...   \n",
       "\n",
       "                                         nmResponsavel  \n",
       "0           Delegado de Polícia José Luiz Silva Duarte  \n",
       "1         Delegada de Polícia Patricia de Paiva Aguiar  \n",
       "2          Delegado de Polícia Bruno Gilaberte Freitas  \n",
       "3        Delegado de Polícia Fabio Luiz Da Silva Souza  \n",
       "4    Delegado de Polícia Carlos Alberto Meirelles D...  \n",
       "..                                                 ...  \n",
       "132           Delegado de Polícia Clovis Souza Moreira  \n",
       "133         Delegado de Polícia Anderson Ribeiro Pinto  \n",
       "134        Delegado de Polícia Vilson de Almeida Silva  \n",
       "135      Delegado de Polícia Marcelo dos Santos Haddad  \n",
       "136        Delegado de Polícia Francisco Benitez Lopes  \n",
       "\n",
       "[137 rows x 5 columns]"
      ]
     },
     "execution_count": 32,
     "metadata": {},
     "output_type": "execute_result"
    }
   ],
   "source": [
    "#validar a carga através de um select na tblogDP\n",
    "pd.read_sql(\"SELECT * FROM dDP\",conexaoDW)"
   ]
  },
  {
   "cell_type": "markdown",
   "id": "e4f46186",
   "metadata": {},
   "source": [
    "# FECHANDO A CONEXÃO COM O DW"
   ]
  },
  {
   "cell_type": "code",
   "execution_count": 28,
   "id": "e08ec8fe",
   "metadata": {},
   "outputs": [],
   "source": [
    "#Confirmar a transação\n",
    "conexaoDW.commit()\n",
    "\n",
    "#Fechar a conexão\n",
    "conexaoDW.close()"
   ]
  },
  {
   "cell_type": "code",
   "execution_count": null,
   "id": "94c6873e",
   "metadata": {},
   "outputs": [],
   "source": []
  }
 ],
 "metadata": {
  "kernelspec": {
   "display_name": "Python 3 (ipykernel)",
   "language": "python",
   "name": "python3"
  },
  "language_info": {
   "codemirror_mode": {
    "name": "ipython",
    "version": 3
   },
   "file_extension": ".py",
   "mimetype": "text/x-python",
   "name": "python",
   "nbconvert_exporter": "python",
   "pygments_lexer": "ipython3",
   "version": "3.9.7"
  }
 },
 "nbformat": 4,
 "nbformat_minor": 5
}
