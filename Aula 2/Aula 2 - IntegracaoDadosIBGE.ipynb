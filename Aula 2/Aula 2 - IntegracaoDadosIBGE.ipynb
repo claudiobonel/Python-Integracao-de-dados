{
 "cells": [
  {
   "cell_type": "code",
   "execution_count": 55,
   "id": "fb814294",
   "metadata": {},
   "outputs": [],
   "source": [
    "import pandas as pd\n",
    "from datetime import datetime\n",
    "from pathlib import Path\n",
    "import sqlite3 as sql"
   ]
  },
  {
   "cell_type": "markdown",
   "id": "fa6d8486",
   "metadata": {},
   "source": [
    "# COLETA DE DADOS DO SITE DO IBGE"
   ]
  },
  {
   "cell_type": "code",
   "execution_count": 56,
   "id": "bd33766d",
   "metadata": {},
   "outputs": [],
   "source": [
    "#COLETANDO DADOS DO IBGE\n",
    "url = 'https://www.ibge.gov.br/explica/codigos-dos-municipios.php#RJ'\n",
    "\n",
    "DadosIBGE = pd.DataFrame(pd.read_html(url, match=\"Municípios do Rio de Janeiro\")[0])\n",
    "\n",
    "#RENOMEAR COLUNAS DO DF\n",
    "DadosIBGE = DadosIBGE.rename(columns={'Municípios do Rio de Janeiro':'nmMunic','Códigos':'codMunic'})\n",
    "\n",
    "#ALTERANDO NOME DO INDEX\n",
    "DadosIBGE.index.name = 'idMunic'\n",
    "\n",
    "#ALTERANDO INDEX PRA COMEÇAR EM 1\n",
    "DadosIBGE.index = DadosIBGE.index + 1\n",
    "\n",
    "#ADICIONAR UM COLUNA DE DATA E HORA DE CARGA\n",
    "DadosIBGE['dtCarga'] = datetime.today().strftime('%d/%m/%Y %H:%M')\n",
    "\n",
    "#DadosIBGE"
   ]
  },
  {
   "cell_type": "markdown",
   "id": "280e4d7c",
   "metadata": {},
   "source": [
    "# CRIANDO O BANCO DE DADOS ODS"
   ]
  },
  {
   "cell_type": "code",
   "execution_count": 57,
   "id": "8d8d9226",
   "metadata": {},
   "outputs": [
    {
     "name": "stdout",
     "output_type": "stream",
     "text": [
      "Bancos de dados já existem!\n"
     ]
    }
   ],
   "source": [
    "#Manipulando o sistema de arquivos\n",
    "endereco = Path('C:\\\\Users\\\\claud\\\\OneDrive\\\\Claudio Bonel-DADOTECA\\\\Projetos Sociais\\\\Projeto Dado Humanizado\\\\Pascoa com Dados\\\\')\n",
    "\n",
    "BDODS = endereco / \"pascoaODS.db\"\n",
    "BDDW = endereco / \"pascoaDW.db\"\n",
    "\n",
    "if endereco.exists():\n",
    "    if (BDODS.exists() and BDDW.exists()):\n",
    "        print('Bancos de dados já existem!')\n",
    "    else:\n",
    "        BDODS.touch()\n",
    "        BDDW.touch()\n",
    "        print('Bancos de dados criados!')\n",
    "else:\n",
    "    print('Endereço não existe! Favor, verificar!')\n",
    "        "
   ]
  },
  {
   "cell_type": "markdown",
   "id": "68fdf82f",
   "metadata": {},
   "source": [
    "# MANIPULANDO OS BANCOS DE DADOS CRIADOS"
   ]
  },
  {
   "cell_type": "code",
   "execution_count": 58,
   "id": "b01ec810",
   "metadata": {},
   "outputs": [
    {
     "name": "stdout",
     "output_type": "stream",
     "text": [
      "Carga do BDODS concluída!\n"
     ]
    }
   ],
   "source": [
    "#Conectar no BDODS\n",
    "conexaoODS = sql.connect(BDODS)\n",
    "\n",
    "#Criar a tabela tbLogMunic e carregar os dados do DF DadosIBGE\n",
    "DadosIBGE.to_sql('tbLogMunic',conexaoODS,if_exists=\"append\")\n",
    "\n",
    "#Confirmar a transação\n",
    "conexaoODS.commit()\n",
    "\n",
    "#Fechar a conexão\n",
    "conexaoODS.close()\n",
    "\n",
    "print('Carga do BDODS concluída!')"
   ]
  },
  {
   "cell_type": "code",
   "execution_count": 59,
   "id": "88da0892",
   "metadata": {},
   "outputs": [
    {
     "name": "stdout",
     "output_type": "stream",
     "text": [
      "Carga do DW concluída!\n"
     ]
    }
   ],
   "source": [
    "#Conectar no BDDW\n",
    "conexaoDW = sql.connect(BDDW)\n",
    "\n",
    "#Selecionar somente as colunas para criação da dMunicipio\n",
    "DadosIBGE = DadosIBGE[['nmMunic','codMunic']]\n",
    "\n",
    "#Criar a tabela dMunicipio e carregar os dados do DF DadosIBGE\n",
    "DadosIBGE.to_sql('dMunicipio',conexaoDW,if_exists=\"replace\")\n",
    "\n",
    "#Confirmar a transação\n",
    "conexaoDW.commit()\n",
    "\n",
    "#Fechar a conexão\n",
    "conexaoDW.close()\n",
    "\n",
    "print('Carga do DW concluída!')"
   ]
  }
 ],
 "metadata": {
  "kernelspec": {
   "display_name": "Python 3 (ipykernel)",
   "language": "python",
   "name": "python3"
  },
  "language_info": {
   "codemirror_mode": {
    "name": "ipython",
    "version": 3
   },
   "file_extension": ".py",
   "mimetype": "text/x-python",
   "name": "python",
   "nbconvert_exporter": "python",
   "pygments_lexer": "ipython3",
   "version": "3.9.7"
  }
 },
 "nbformat": 4,
 "nbformat_minor": 5
}
