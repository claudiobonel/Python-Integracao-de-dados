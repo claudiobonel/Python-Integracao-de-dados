{
 "cells": [
  {
   "cell_type": "code",
   "execution_count": 382,
   "id": "fb814294",
   "metadata": {},
   "outputs": [],
   "source": [
    "import pandas as pd\n",
    "from datetime import datetime\n",
    "from pathlib import Path\n",
    "import sqlite3 as sql"
   ]
  },
  {
   "cell_type": "code",
   "execution_count": 383,
   "id": "01d4c291",
   "metadata": {},
   "outputs": [],
   "source": [
    "dtCarga = datetime.today().strftime('%d/%m/%Y %H:%M')"
   ]
  },
  {
   "cell_type": "markdown",
   "id": "fa6d8486",
   "metadata": {},
   "source": [
    "# COLETA DE DADOS DO SITE DO IBGE"
   ]
  },
  {
   "cell_type": "code",
   "execution_count": 384,
   "id": "bd33766d",
   "metadata": {},
   "outputs": [],
   "source": [
    "#COLETANDO DADOS DO IBGE\n",
    "url = 'https://www.ibge.gov.br/explica/codigos-dos-municipios.php#RJ'\n",
    "\n",
    "DadosIBGE = pd.DataFrame(pd.read_html(url, match=\"Municípios do Rio de Janeiro\")[0])\n",
    "\n",
    "#RENOMEAR COLUNAS DO DF\n",
    "DadosIBGE = DadosIBGE.rename(columns={'Municípios do Rio de Janeiro':'nmMunic','Códigos':'codMunic'})\n",
    "\n",
    "#ALTERANDO NOME DO INDEX\n",
    "DadosIBGE.index.name = 'idMunic'\n",
    "\n",
    "#ALTERANDO INDEX PRA COMEÇAR EM 1\n",
    "DadosIBGE.index = DadosIBGE.index + 1\n",
    "\n",
    "#ADICIONAR UM COLUNA DE DATA E HORA DE CARGA\n",
    "DadosIBGE['dtCarga'] = dtCarga\n",
    "\n",
    "#DadosIBGE"
   ]
  },
  {
   "cell_type": "markdown",
   "id": "280e4d7c",
   "metadata": {},
   "source": [
    "# CRIANDO O BANCO DE DADOS ODS"
   ]
  },
  {
   "cell_type": "code",
   "execution_count": 385,
   "id": "8d8d9226",
   "metadata": {},
   "outputs": [
    {
     "name": "stdout",
     "output_type": "stream",
     "text": [
      "Bancos de dados já existem!\n"
     ]
    }
   ],
   "source": [
    "#Manipulando o sistema de arquivos\n",
    "endereco = Path('C:\\\\Users\\\\claud\\\\OneDrive\\\\Claudio Bonel-DADOTECA\\\\Projetos Sociais\\\\Projeto Dado Humanizado\\\\Pascoa com Dados\\\\')\n",
    "\n",
    "BDODS = endereco / \"pascoaODS.db\"\n",
    "BDDW = endereco / \"pascoaDW.db\"\n",
    "\n",
    "if endereco.exists():\n",
    "    if (BDODS.exists() and BDDW.exists()):\n",
    "        print('Bancos de dados já existem!')\n",
    "    else:\n",
    "        BDODS.touch()\n",
    "        BDDW.touch()\n",
    "        print('Bancos de dados criados!')\n",
    "else:\n",
    "    print('Endereço não existe! Favor, verificar!')\n",
    "        "
   ]
  },
  {
   "cell_type": "markdown",
   "id": "68fdf82f",
   "metadata": {},
   "source": [
    "# MANIPULANDO OS BANCOS DE DADOS CRIADOS"
   ]
  },
  {
   "cell_type": "code",
   "execution_count": 386,
   "id": "b01ec810",
   "metadata": {},
   "outputs": [
    {
     "name": "stdout",
     "output_type": "stream",
     "text": [
      "Carga do BDODS concluída!\n"
     ]
    }
   ],
   "source": [
    "#Conectar no BDODS\n",
    "conexaoODS = sql.connect(BDODS)\n",
    "\n",
    "#Criar a tabela tbLogMunic e carregar os dados do DF DadosIBGE\n",
    "DadosIBGE.to_sql('tbLogMunic',conexaoODS,if_exists=\"append\")\n",
    "\n",
    "#Confirmar a transação\n",
    "conexaoODS.commit()\n",
    "\n",
    "#Fechar a conexão\n",
    "conexaoODS.close()\n",
    "\n",
    "print('Carga do BDODS concluída!')"
   ]
  },
  {
   "cell_type": "code",
   "execution_count": 387,
   "id": "88da0892",
   "metadata": {},
   "outputs": [
    {
     "name": "stdout",
     "output_type": "stream",
     "text": [
      "Carga do DW concluída!\n"
     ]
    }
   ],
   "source": [
    "#Conectar no BDDW\n",
    "conexaoDW = sql.connect(BDDW)\n",
    "\n",
    "#Selecionar somente as colunas para criação da dMunicipio\n",
    "DadosIBGE = DadosIBGE[['nmMunic','codMunic']]\n",
    "\n",
    "#Criar a tabela dMunicipio e carregar os dados do DF DadosIBGE\n",
    "DadosIBGE.to_sql('dMunicipio',conexaoDW,if_exists=\"replace\")\n",
    "\n",
    "#Confirmar a transação\n",
    "conexaoDW.commit()\n",
    "\n",
    "#Fechar a conexão\n",
    "conexaoDW.close()\n",
    "\n",
    "print('Carga do DW concluída!')"
   ]
  },
  {
   "cell_type": "markdown",
   "id": "8b07eddd",
   "metadata": {},
   "source": [
    "# CARGA DOS DADOS DE CADASTRO DAS DELEGACIAS DE POLÍCIA"
   ]
  },
  {
   "cell_type": "code",
   "execution_count": 388,
   "id": "437f18ea",
   "metadata": {},
   "outputs": [],
   "source": [
    "#Definir o endereço físico do arquivo CSV\n",
    "LocalArquivo = \"C:\\\\Users\\\\claud\\\\OneDrive\\\\Claudio Bonel-DADOTECA\\\\CEPERJ\\\\Aulas\\\\Dados\\\\DADOS_POS\\\\\"\n",
    "\n",
    "#Criar Data Frame com os dados das DPs\n",
    "tbLogDP = pd.DataFrame(pd.read_csv(LocalArquivo + \"DP.csv\"))\n",
    "\n",
    "#Criando coluna com a data da carga\n",
    "tbLogDP['dtCarga'] = dtCarga\n",
    "\n",
    "#selecionando a coluna COD_DP como novo index\n",
    "#tbLogDP = tbLogDP.set_index(\"COD_DP\")"
   ]
  },
  {
   "cell_type": "markdown",
   "id": "b434fa70",
   "metadata": {},
   "source": [
    "# CARGA DOS DADOS DE CADASTRO DOS RESPONSÁVEIS PELAS DELEGACIAS DE POLÍCIA"
   ]
  },
  {
   "cell_type": "code",
   "execution_count": 389,
   "id": "5e025ac6",
   "metadata": {},
   "outputs": [],
   "source": [
    "#Criar Data Frame com os dados dos responsáveis pelas DPs\n",
    "tbLogRespDP = pd.DataFrame(pd.read_csv(LocalArquivo + \"ResponsavelDP.csv\"))\n",
    "\n",
    "#Criando coluna com a data da carga\n",
    "tbLogRespDP['dtCarga'] = dtCarga\n",
    "\n",
    "#selecionando a coluna COD_DP como novo index\n",
    "#tbLogRespDP = tbLogRespDP.set_index(\"COD_DP\")"
   ]
  },
  {
   "cell_type": "markdown",
   "id": "049ae530",
   "metadata": {},
   "source": [
    "# CONECTANDO NO ODS E INFORMANDO AO PYTHON QUE USAREI LINGUAGEM SQL"
   ]
  },
  {
   "cell_type": "code",
   "execution_count": 390,
   "id": "c6c50428",
   "metadata": {},
   "outputs": [],
   "source": [
    "#Conectar no BDODS\n",
    "conexaoODS = sql.connect(BDODS)\n",
    "\n",
    "#Definição de manipulação de dados em SQL\n",
    "SQL_ODS = conexaoODS.cursor()"
   ]
  },
  {
   "cell_type": "markdown",
   "id": "1c9f425d",
   "metadata": {},
   "source": [
    "# INSERINDO DADOS DAS DELEGACIAS DE POLÍCIA, NO SQLITE (ODS) "
   ]
  },
  {
   "cell_type": "code",
   "execution_count": 391,
   "id": "ffe7af5b",
   "metadata": {},
   "outputs": [
    {
     "name": "stdout",
     "output_type": "stream",
     "text": [
      "Iniciando a inserção de dados na tabela tbLogDP.\n",
      "-------------------------------------------------\n",
      "Carga finalizada! 137 registros inseridos na tbLogDP!\n"
     ]
    }
   ],
   "source": [
    "#Inserindo registros na tabela tbLogDP\n",
    "print(\"Iniciando a inserção de dados na tabela tbLogDP.\")\n",
    "print(\"-------------------------------------------------\")\n",
    "\n",
    "SQL_ODS.executemany('''INSERT INTO tbLogDP (codDP,nmDP,endereco,dtCarga) VALUES (?,?,?,?)''',tbLogDP.values.tolist())\n",
    "\n",
    "#confirmar a transação\n",
    "conexaoODS.commit()\n",
    "\n",
    "#Exibir uma mensagem de conclusão de carga\n",
    "print(\"Carga finalizada!\",len(tbLogDP), \"registros inseridos na tbLogDP!\")"
   ]
  },
  {
   "cell_type": "markdown",
   "id": "29d4babd",
   "metadata": {},
   "source": [
    "# INSERINDO DADOS DOS RESPONSÁVEIS PELAS DELEGACIAS DE POLÍCIA, NO SQLITE (ODS) "
   ]
  },
  {
   "cell_type": "code",
   "execution_count": 392,
   "id": "e09ab3d0",
   "metadata": {},
   "outputs": [
    {
     "name": "stdout",
     "output_type": "stream",
     "text": [
      "Iniciando a inserção de dados na tabela tbLogRespDP.\n",
      "-------------------------------------------------\n",
      "Carga finalizada! 137 registros inseridos na tbLogDP!\n"
     ]
    }
   ],
   "source": [
    "#Inserindo registros na tabela tbLogDP\n",
    "print(\"Iniciando a inserção de dados na tabela tbLogRespDP.\")\n",
    "print(\"-------------------------------------------------\")\n",
    "\n",
    "SQL_ODS.executemany('''INSERT INTO tbLogRespDP (codDP,nmResponsavel,dtCarga) VALUES (?,?,?)''',tbLogRespDP.values.tolist())\n",
    "\n",
    "#confirmar a transação\n",
    "conexaoODS.commit()\n",
    "\n",
    "#Exibir uma mensagem de conclusão de carga\n",
    "print(\"Carga finalizada!\",len(tbLogRespDP), \"registros inseridos na tbLogDP!\")"
   ]
  },
  {
   "cell_type": "markdown",
   "id": "7bc111e9",
   "metadata": {},
   "source": [
    "# VALIDANDO CARGA DOS DADOS DE DP E DE RESPONSÁVEL DP"
   ]
  },
  {
   "cell_type": "code",
   "execution_count": 393,
   "id": "1d2fe1eb",
   "metadata": {},
   "outputs": [],
   "source": [
    "#validar a carga através de um select na tblogDP\n",
    "#pd.read_sql(\"SELECT * FROM tbLogDP\",conexaoODS)"
   ]
  },
  {
   "cell_type": "code",
   "execution_count": 394,
   "id": "3450239c",
   "metadata": {},
   "outputs": [],
   "source": [
    "#validar a carga através de um select na tblogRespDP\n",
    "#pd.read_sql(\"SELECT * FROM tbLogRespDP\",conexaoODS)"
   ]
  },
  {
   "cell_type": "markdown",
   "id": "5ea3cd64",
   "metadata": {},
   "source": [
    "# CRIANDO O DATAFRAME COM O SELECT DE CRIAÇÃO DA DIMENSÃO DP (dDP), NO DW"
   ]
  },
  {
   "cell_type": "code",
   "execution_count": 395,
   "id": "3e5a502c",
   "metadata": {},
   "outputs": [],
   "source": [
    "#Definir a query de criação da dimensão dDP\n",
    "\n",
    "qry_dDP = '''\n",
    "    SELECT \n",
    "        codDP,\n",
    "        nmDP,\n",
    "        endereco,\n",
    "        nmResponsavel\n",
    "    FROM\n",
    "    (\n",
    "        SELECT\n",
    "            a.codDP,\n",
    "            a.nmDP,\n",
    "            a.endereco,\n",
    "            b.nmResponsavel,\n",
    "            max(a.dtCarga)\n",
    "        FROM tbLogDP a\n",
    "        JOIN tbLogRespDP b\n",
    "        on a.codDP = b.codDP\n",
    "        WHERE a.dtCarga = (SELECT max(x.dtCarga) FROM tbLogDP x)\n",
    "        GROUP BY\n",
    "            a.codDP,\n",
    "            a.nmDP,\n",
    "            a.endereco,\n",
    "            b.nmResponsavel\n",
    "    ) a\n",
    "'''\n",
    "\n",
    "dDP = pd.read_sql(qry_dDP,conexaoODS)"
   ]
  },
  {
   "cell_type": "markdown",
   "id": "72ae3709",
   "metadata": {},
   "source": [
    "# COLETANDO DADOS DOS BATALHÕES DE POLÍCIA MILITAR (BPM)"
   ]
  },
  {
   "cell_type": "code",
   "execution_count": 396,
   "id": "c044cd8e",
   "metadata": {},
   "outputs": [],
   "source": [
    "#Criar Data Frame com os dados dos BPMs\n",
    "tbLogBPM = pd.DataFrame(pd.read_excel(LocalArquivo + \"BPM.xlsx\"))\n",
    "\n",
    "#Criando coluna com a data da carga\n",
    "tbLogBPM['dtCarga'] = dtCarga\n"
   ]
  },
  {
   "cell_type": "markdown",
   "id": "b9faf9c7",
   "metadata": {},
   "source": [
    "# CONSTRUINDO A TABELA DE LOG DE REGISTROS DO BPM (tbLogBPM), no ODS"
   ]
  },
  {
   "cell_type": "code",
   "execution_count": 397,
   "id": "24b06848",
   "metadata": {},
   "outputs": [
    {
     "data": {
      "text/plain": [
       "<sqlite3.Cursor at 0x1493a17f110>"
      ]
     },
     "execution_count": 397,
     "metadata": {},
     "output_type": "execute_result"
    }
   ],
   "source": [
    "#Definir a query de criação da tabela\n",
    "qry_tbLogBPM = '''\n",
    "    \n",
    "    CREATE TABLE IF NOT EXISTS tbLogBPM (\n",
    "    \n",
    "    codBPM INTEGER,\n",
    "    nmBPM VARCHAR (7),\n",
    "    enderecoBPM VARCHAR (200),\n",
    "    dtCarga DATETIME\n",
    "\n",
    "    )\n",
    "'''\n",
    "\n",
    "#executar a criação da tbLogBPM\n",
    "SQL_ODS.execute(qry_tbLogBPM)\n",
    "\n",
    "#definição da qry de criação de index\n",
    "qry_idx_tbLogBPM_codBPM = \"CREATE INDEX IF NOT EXISTS idx_tbLogBPM_codBPM ON tbLogBPM (codBPM)\"\n",
    "\n",
    "#executar a criação do index\n",
    "SQL_ODS.execute(qry_idx_tbLogBPM_codBPM)"
   ]
  },
  {
   "cell_type": "markdown",
   "id": "43a8cf20",
   "metadata": {},
   "source": [
    "# INSERINDO DADOS DE BPM NA TABELA tbLogBPM"
   ]
  },
  {
   "cell_type": "code",
   "execution_count": 398,
   "id": "6a33d6ba",
   "metadata": {},
   "outputs": [
    {
     "name": "stdout",
     "output_type": "stream",
     "text": [
      "Iniciando a inserção de dados na tabela tbLogBPM.\n",
      "-------------------------------------------------\n",
      "Carga finalizada! 41 registros inseridos na tbLogBPM!\n"
     ]
    }
   ],
   "source": [
    "#Inserindo registros na tabela tbLogBPM\n",
    "print(\"Iniciando a inserção de dados na tabela tbLogBPM.\")\n",
    "print(\"-------------------------------------------------\")\n",
    "\n",
    "SQL_ODS.executemany('''INSERT INTO tbLogBPM (codBPM,nmBPM,enderecoBPM,dtCarga) VALUES (?,?,?,?)''',tbLogBPM.values.tolist())\n",
    "\n",
    "#confirmar a transação\n",
    "conexaoODS.commit()\n",
    "\n",
    "#Exibir uma mensagem de conclusão de carga\n",
    "print(\"Carga finalizada!\",len(tbLogBPM), \"registros inseridos na tbLogBPM!\")"
   ]
  },
  {
   "cell_type": "markdown",
   "id": "ef474303",
   "metadata": {},
   "source": [
    "# COLETANDO DADOS DA ÁREA DOS BATALHÕES DE POLÍCIA MILITAR (BPM)"
   ]
  },
  {
   "cell_type": "code",
   "execution_count": 399,
   "id": "3c7bd8a4",
   "metadata": {},
   "outputs": [],
   "source": [
    "#Criar Data Frame com os dados dos BPMs\n",
    "tbLogAreaBPM = pd.DataFrame(pd.read_csv(LocalArquivo + \"areaBPMv1.csv\"))\n",
    "\n",
    "#Criando coluna com a data da carga\n",
    "tbLogAreaBPM['dtCarga'] = dtCarga\n"
   ]
  },
  {
   "cell_type": "markdown",
   "id": "07b1d113",
   "metadata": {},
   "source": [
    "# CONSTRUINDO A TABELA DE LOG DE REGISTROS DA ÁREA DOS BPMs (tbLogAreaBPM), no ODS"
   ]
  },
  {
   "cell_type": "code",
   "execution_count": 400,
   "id": "93f57a0a",
   "metadata": {},
   "outputs": [
    {
     "data": {
      "text/plain": [
       "<sqlite3.Cursor at 0x1493a17f110>"
      ]
     },
     "execution_count": 400,
     "metadata": {},
     "output_type": "execute_result"
    }
   ],
   "source": [
    "#Definir a query de criação da tabela\n",
    "qry_tbLogAreaBPM = '''\n",
    "    \n",
    "    CREATE TABLE IF NOT EXISTS tbLogAreaBPM (\n",
    "    \n",
    "    codBPM INTEGER,\n",
    "    areaBPM REAL (5,2),\n",
    "    dtCarga DATETIME\n",
    "\n",
    "    )\n",
    "'''\n",
    "\n",
    "#executar a criação da tbLogAreaBPM\n",
    "SQL_ODS.execute(qry_tbLogAreaBPM)\n",
    "\n",
    "#definição da qry de criação de index\n",
    "qry_idx_tbLogAreaBPM_codBPM = \"CREATE INDEX IF NOT EXISTS idx_tbLogAreaBPM_codBPM ON tbLogAreaBPM (codBPM)\"\n",
    "\n",
    "#executar a criação do index\n",
    "SQL_ODS.execute(qry_idx_tbLogAreaBPM_codBPM)"
   ]
  },
  {
   "cell_type": "markdown",
   "id": "83b59094",
   "metadata": {},
   "source": [
    "# INSERINDO DADOS DA ÁREA DOS BPMs NA TABELA tbLogAreaBPM"
   ]
  },
  {
   "cell_type": "code",
   "execution_count": 401,
   "id": "a1ef7179",
   "metadata": {},
   "outputs": [
    {
     "name": "stdout",
     "output_type": "stream",
     "text": [
      "Iniciando a inserção de dados na tabela tbLogAreaBPM.\n",
      "-------------------------------------------------\n",
      "Carga finalizada! 39 registros inseridos na tbLogAreaBPM!\n"
     ]
    }
   ],
   "source": [
    "#Inserindo registros na tabela tbLogAreaBPM\n",
    "print(\"Iniciando a inserção de dados na tabela tbLogAreaBPM.\")\n",
    "print(\"-------------------------------------------------\")\n",
    "\n",
    "SQL_ODS.executemany('''INSERT INTO tbLogAreaBPM (codBPM,areaBPM,dtCarga) VALUES (?,?,?)''',tbLogAreaBPM.values.tolist())\n",
    "\n",
    "#confirmar a transação\n",
    "conexaoODS.commit()\n",
    "\n",
    "#Exibir uma mensagem de conclusão de carga\n",
    "print(\"Carga finalizada!\",len(tbLogAreaBPM), \"registros inseridos na tbLogAreaBPM!\")"
   ]
  },
  {
   "cell_type": "markdown",
   "id": "1b74da0b",
   "metadata": {},
   "source": [
    "# CRIANDO O DATAFRAME COM O SELECT DE CRIAÇÃO DA DIMENSÃO DP (dBPM), NO DW"
   ]
  },
  {
   "cell_type": "code",
   "execution_count": 402,
   "id": "08137459",
   "metadata": {},
   "outputs": [],
   "source": [
    "#Definir a query de criação da dimensão dBPM\n",
    "\n",
    "qry_dBPM = '''\n",
    "    SELECT\n",
    "        codBPM,\n",
    "        nmBPM,\n",
    "        enderecoBPM,\n",
    "        areaBPM\n",
    "    FROM \n",
    "    (\n",
    "        SELECT \n",
    "            a.codBPM,\n",
    "            a.nmBPM,\n",
    "            a.enderecoBPM,\n",
    "            b.areaBPM,\n",
    "            max(a.dtCarga)\n",
    "        FROM tbLogBPM a\n",
    "        JOIN tbLogAreaBPM b\n",
    "        ON a.codBPM = b.codBPM\n",
    "        WHERE a.dtCarga = (\n",
    "                            SELECT MAX(x.dtCarga)\n",
    "                            FROM tbLogBPM x\n",
    "                       )\n",
    "        GROUP BY\n",
    "            a.codBPM,\n",
    "            a.nmBPM,\n",
    "            a.enderecoBPM,\n",
    "            b.areaBPM\n",
    "    ) a\n",
    "'''\n",
    "\n",
    "dBPM = pd.read_sql(qry_dBPM,conexaoODS)"
   ]
  },
  {
   "cell_type": "markdown",
   "id": "c577ee97",
   "metadata": {},
   "source": [
    "# FECHANDO A CONEXÃO COM O ODS"
   ]
  },
  {
   "cell_type": "code",
   "execution_count": 403,
   "id": "35f49f77",
   "metadata": {},
   "outputs": [],
   "source": [
    "#Confirmar a transação\n",
    "conexaoODS.commit()\n",
    "\n",
    "#Fechar a conexão\n",
    "conexaoODS.close()"
   ]
  },
  {
   "cell_type": "markdown",
   "id": "d2b4dddc",
   "metadata": {},
   "source": [
    "# CONECTANDO NO DW E INFORMANDO AO PYTHON QUE USAREI LINGUAGEM SQL"
   ]
  },
  {
   "cell_type": "code",
   "execution_count": 404,
   "id": "9fa0b30b",
   "metadata": {},
   "outputs": [],
   "source": [
    "#Conectar no BDODS\n",
    "conexaoDW = sql.connect(BDDW)\n",
    "\n",
    "#Definição de manipulação de dados em SQL\n",
    "SQL_DW = conexaoDW.cursor()"
   ]
  },
  {
   "cell_type": "markdown",
   "id": "edfba2ec",
   "metadata": {},
   "source": [
    "# DELETANDO DADOS ANTIGOS E REINICIANDO AO AUTOINCREMENTAL DA CHAVE, DA TABELA dDP"
   ]
  },
  {
   "cell_type": "code",
   "execution_count": 405,
   "id": "26c791ce",
   "metadata": {},
   "outputs": [],
   "source": [
    "#Deletar os dados atuais\n",
    "SQL_DW.execute(\"DELETE FROM dDP\")\n",
    "\n",
    "#Reiniciando o autoincramental da chave\n",
    "SQL_DW.execute(\"UPDATE sqlite_sequence SET seq=0 WHERE name='dDP'\")\n",
    "\n",
    "#Confirmar a transação\n",
    "conexaoDW.commit()"
   ]
  },
  {
   "cell_type": "markdown",
   "id": "29e6e44f",
   "metadata": {},
   "source": [
    "# INSERINDO DADOS NA DIMENSÃO DP (dDP), NO DW"
   ]
  },
  {
   "cell_type": "code",
   "execution_count": 406,
   "id": "bd4a8d7e",
   "metadata": {},
   "outputs": [
    {
     "name": "stdout",
     "output_type": "stream",
     "text": [
      "Iniciando a inserção de dados na tabela dDP.\n",
      "-------------------------------------------------\n",
      "Carga finalizada! 137 registros inseridos na tbLogDP!\n"
     ]
    }
   ],
   "source": [
    "#Inserindo registros na tabela dDP\n",
    "print(\"Iniciando a inserção de dados na tabela dDP.\")\n",
    "print(\"-------------------------------------------------\")\n",
    "\n",
    "SQL_DW.executemany('''INSERT INTO dDP (codDP,nmDP,endereco,nmResponsavel) VALUES (?,?,?,?)''',dDP.values.tolist())\n",
    "\n",
    "#confirmar a transação\n",
    "conexaoDW.commit()\n",
    "\n",
    "#Exibir uma mensagem de conclusão de carga\n",
    "print(\"Carga finalizada!\",len(dDP), \"registros inseridos na tbLogDP!\")"
   ]
  },
  {
   "cell_type": "markdown",
   "id": "b6ec359c",
   "metadata": {},
   "source": [
    "# VALIDANDO CARGA DOS DADOS DA DIMENSÃO DP (dDP)"
   ]
  },
  {
   "cell_type": "code",
   "execution_count": 407,
   "id": "a7faf0a4",
   "metadata": {},
   "outputs": [],
   "source": [
    "#validar a carga através de um select na tblogDP\n",
    "#pd.read_sql(\"SELECT * FROM dDP\",conexaoDW)"
   ]
  },
  {
   "cell_type": "markdown",
   "id": "71d15fec",
   "metadata": {},
   "source": [
    "# CONSTRUINDO A TABELA DE DIMENSÃO BPM (dBPM), no DW"
   ]
  },
  {
   "cell_type": "code",
   "execution_count": 408,
   "id": "32a51817",
   "metadata": {},
   "outputs": [
    {
     "data": {
      "text/plain": [
       "<sqlite3.Cursor at 0x1493b1a7180>"
      ]
     },
     "execution_count": 408,
     "metadata": {},
     "output_type": "execute_result"
    }
   ],
   "source": [
    "#Definir a query de criação da tabela\n",
    "qry_dBPM = '''\n",
    "    \n",
    "    CREATE TABLE IF NOT EXISTS dBPM (\n",
    "    \n",
    "    idBPM INTEGER PRIMARY KEY AUTOINCREMENT,\n",
    "    codBPM INTEGER,\n",
    "    nmBPM VARCHAR (7),\n",
    "    enderecoBPM VARCHAR (200),\n",
    "    areaBPM REAL (5,2)\n",
    "\n",
    "    )\n",
    "'''\n",
    "\n",
    "#executar a criação da tbLogBPM\n",
    "SQL_DW.execute(qry_dBPM)\n",
    "\n",
    "#executar a criação do index idBPM\n",
    "SQL_DW.execute(\"CREATE INDEX IF NOT EXISTS idx_dBPM_idBPM ON dBPM (idBPM)\")\n",
    "\n",
    "#executar a criação do index codBPM\n",
    "SQL_DW.execute(\"CREATE INDEX IF NOT EXISTS idx_dBPM_codBPM ON dBPM (codBPM)\")"
   ]
  },
  {
   "cell_type": "markdown",
   "id": "b66a39f3",
   "metadata": {},
   "source": [
    "# DELETANDO DADOS ANTIGOS E REINICIANDO AO AUTOINCREMENTAL DA CHAVE, DA TABELA dBPM"
   ]
  },
  {
   "cell_type": "code",
   "execution_count": 409,
   "id": "a0403ce5",
   "metadata": {},
   "outputs": [],
   "source": [
    "#Deletar os dados atuais\n",
    "SQL_DW.execute(\"DELETE FROM dBPM\")\n",
    "\n",
    "#Reiniciando o autoincramental da chave\n",
    "SQL_DW.execute(\"UPDATE sqlite_sequence SET seq=0 WHERE name='dBPM'\")\n",
    "\n",
    "#Confirmar a transação\n",
    "conexaoDW.commit()"
   ]
  },
  {
   "cell_type": "markdown",
   "id": "207ebfba",
   "metadata": {},
   "source": [
    "# INSERINDO DADOS NA DIMENSÃO BPM (dBPM), NO DW"
   ]
  },
  {
   "cell_type": "code",
   "execution_count": 410,
   "id": "d4baad10",
   "metadata": {},
   "outputs": [
    {
     "name": "stdout",
     "output_type": "stream",
     "text": [
      "Iniciando a inserção de dados na tabela dBPM.\n",
      "-------------------------------------------------\n",
      "Carga finalizada! 39 registros inseridos na tbLogDP!\n"
     ]
    }
   ],
   "source": [
    "#Inserindo registros na tabela dBPM\n",
    "print(\"Iniciando a inserção de dados na tabela dBPM.\")\n",
    "print(\"-------------------------------------------------\")\n",
    "\n",
    "SQL_DW.executemany('''INSERT INTO dBPM (codBPM,nmBPM,enderecoBPM,areaBPM) VALUES (?,?,?,?)''',dBPM.values.tolist())\n",
    "\n",
    "#confirmar a transação\n",
    "conexaoDW.commit()\n",
    "\n",
    "#Exibir uma mensagem de conclusão de carga\n",
    "print(\"Carga finalizada!\",len(dBPM), \"registros inseridos na tbLogDP!\")"
   ]
  },
  {
   "cell_type": "markdown",
   "id": "e4f46186",
   "metadata": {},
   "source": [
    "# FECHANDO A CONEXÃO COM O DW"
   ]
  },
  {
   "cell_type": "code",
   "execution_count": 411,
   "id": "e08ec8fe",
   "metadata": {},
   "outputs": [],
   "source": [
    "#Confirmar a transação\n",
    "conexaoDW.commit()\n",
    "\n",
    "#Fechar a conexão\n",
    "conexaoDW.close()"
   ]
  },
  {
   "cell_type": "code",
   "execution_count": null,
   "id": "2aee9e44",
   "metadata": {},
   "outputs": [],
   "source": []
  }
 ],
 "metadata": {
  "kernelspec": {
   "display_name": "Python 3 (ipykernel)",
   "language": "python",
   "name": "python3"
  },
  "language_info": {
   "codemirror_mode": {
    "name": "ipython",
    "version": 3
   },
   "file_extension": ".py",
   "mimetype": "text/x-python",
   "name": "python",
   "nbconvert_exporter": "python",
   "pygments_lexer": "ipython3",
   "version": "3.9.7"
  }
 },
 "nbformat": 4,
 "nbformat_minor": 5
}
