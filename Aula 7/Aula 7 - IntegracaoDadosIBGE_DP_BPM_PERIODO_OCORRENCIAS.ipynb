{
 "cells": [
  {
   "cell_type": "code",
   "execution_count": 134,
   "id": "fb814294",
   "metadata": {},
   "outputs": [],
   "source": [
    "import pandas as pd\n",
    "from datetime import datetime\n",
    "from pathlib import Path\n",
    "import sqlite3 as sql"
   ]
  },
  {
   "cell_type": "code",
   "execution_count": 135,
   "id": "01d4c291",
   "metadata": {},
   "outputs": [],
   "source": [
    "dtCarga = datetime.today().strftime('%d/%m/%Y %H:%M')"
   ]
  },
  {
   "cell_type": "markdown",
   "id": "fa6d8486",
   "metadata": {},
   "source": [
    "# COLETA DE DADOS DO SITE DO IBGE"
   ]
  },
  {
   "cell_type": "code",
   "execution_count": 136,
   "id": "bd33766d",
   "metadata": {},
   "outputs": [],
   "source": [
    "#COLETANDO DADOS DO IBGE\n",
    "url = 'https://www.ibge.gov.br/explica/codigos-dos-municipios.php#RJ'\n",
    "\n",
    "DadosIBGE = pd.DataFrame(pd.read_html(url, match=\"Municípios do Rio de Janeiro\")[0])\n",
    "\n",
    "#RENOMEAR COLUNAS DO DF\n",
    "DadosIBGE = DadosIBGE.rename(columns={'Municípios do Rio de Janeiro':'nmMunic','Códigos':'codMunic'})\n",
    "\n",
    "#ALTERANDO NOME DO INDEX\n",
    "DadosIBGE.index.name = 'idMunic'\n",
    "\n",
    "#ALTERANDO INDEX PRA COMEÇAR EM 1\n",
    "DadosIBGE.index = DadosIBGE.index + 1\n",
    "\n",
    "#ADICIONAR UM COLUNA DE DATA E HORA DE CARGA\n",
    "DadosIBGE['dtCarga'] = dtCarga\n",
    "\n",
    "#DadosIBGE"
   ]
  },
  {
   "cell_type": "markdown",
   "id": "280e4d7c",
   "metadata": {},
   "source": [
    "# CRIANDO O BANCO DE DADOS ODS"
   ]
  },
  {
   "cell_type": "code",
   "execution_count": 137,
   "id": "8d8d9226",
   "metadata": {},
   "outputs": [
    {
     "name": "stdout",
     "output_type": "stream",
     "text": [
      "Bancos de dados já existem!\n"
     ]
    }
   ],
   "source": [
    "#Manipulando o sistema de arquivos\n",
    "endereco = Path('C:\\\\Users\\\\claud\\\\OneDrive\\\\Claudio Bonel-DADOTECA\\\\Projetos Sociais\\\\Projeto Dado Humanizado\\\\Pascoa com Dados\\\\')\n",
    "\n",
    "BDODS = endereco / \"pascoaODS.db\"\n",
    "BDDW = endereco / \"pascoaDW.db\"\n",
    "\n",
    "if endereco.exists():\n",
    "    if (BDODS.exists() and BDDW.exists()):\n",
    "        print('Bancos de dados já existem!')\n",
    "    else:\n",
    "        BDODS.touch()\n",
    "        BDDW.touch()\n",
    "        print('Bancos de dados criados!')\n",
    "else:\n",
    "    print('Endereço não existe! Favor, verificar!')\n",
    "        "
   ]
  },
  {
   "cell_type": "markdown",
   "id": "68fdf82f",
   "metadata": {},
   "source": [
    "# MANIPULANDO OS BANCOS DE DADOS CRIADOS"
   ]
  },
  {
   "cell_type": "code",
   "execution_count": 138,
   "id": "b01ec810",
   "metadata": {},
   "outputs": [
    {
     "name": "stdout",
     "output_type": "stream",
     "text": [
      "Carga do BDODS concluída!\n"
     ]
    }
   ],
   "source": [
    "#Conectar no BDODS\n",
    "conexaoODS = sql.connect(BDODS)\n",
    "\n",
    "#Criar a tabela tbLogMunic e carregar os dados do DF DadosIBGE\n",
    "DadosIBGE.to_sql('tbLogMunic',conexaoODS,if_exists=\"append\")\n",
    "\n",
    "#Confirmar a transação\n",
    "conexaoODS.commit()\n",
    "\n",
    "#Fechar a conexão\n",
    "conexaoODS.close()\n",
    "\n",
    "print('Carga do BDODS concluída!')"
   ]
  },
  {
   "cell_type": "code",
   "execution_count": 139,
   "id": "88da0892",
   "metadata": {},
   "outputs": [
    {
     "name": "stdout",
     "output_type": "stream",
     "text": [
      "Carga do DW concluída!\n"
     ]
    }
   ],
   "source": [
    "#Conectar no BDDW\n",
    "conexaoDW = sql.connect(BDDW)\n",
    "\n",
    "#Selecionar somente as colunas para criação da dMunicipio\n",
    "DadosIBGE = DadosIBGE[['nmMunic','codMunic']]\n",
    "\n",
    "#Criar a tabela dMunicipio e carregar os dados do DF DadosIBGE\n",
    "DadosIBGE.to_sql('dMunicipio',conexaoDW,if_exists=\"replace\")\n",
    "\n",
    "#Confirmar a transação\n",
    "conexaoDW.commit()\n",
    "\n",
    "#Fechar a conexão\n",
    "conexaoDW.close()\n",
    "\n",
    "print('Carga do DW concluída!')"
   ]
  },
  {
   "cell_type": "markdown",
   "id": "8b07eddd",
   "metadata": {},
   "source": [
    "# CARGA DOS DADOS DE CADASTRO DAS DELEGACIAS DE POLÍCIA"
   ]
  },
  {
   "cell_type": "code",
   "execution_count": 140,
   "id": "437f18ea",
   "metadata": {},
   "outputs": [],
   "source": [
    "#Definir o endereço físico do arquivo CSV\n",
    "LocalArquivo = \"C:\\\\Users\\\\claud\\\\OneDrive\\\\Claudio Bonel-DADOTECA\\\\CEPERJ\\\\Aulas\\\\Dados\\\\DADOS_POS\\\\\"\n",
    "\n",
    "#Criar Data Frame com os dados das DPs\n",
    "tbLogDP = pd.DataFrame(pd.read_csv(LocalArquivo + \"DP.csv\"))\n",
    "\n",
    "#Criando coluna com a data da carga\n",
    "tbLogDP['dtCarga'] = dtCarga\n",
    "\n",
    "#selecionando a coluna COD_DP como novo index\n",
    "#tbLogDP = tbLogDP.set_index(\"COD_DP\")"
   ]
  },
  {
   "cell_type": "markdown",
   "id": "b434fa70",
   "metadata": {},
   "source": [
    "# CARGA DOS DADOS DE CADASTRO DOS RESPONSÁVEIS PELAS DELEGACIAS DE POLÍCIA"
   ]
  },
  {
   "cell_type": "code",
   "execution_count": 141,
   "id": "5e025ac6",
   "metadata": {},
   "outputs": [],
   "source": [
    "#Criar Data Frame com os dados dos responsáveis pelas DPs\n",
    "tbLogRespDP = pd.DataFrame(pd.read_csv(LocalArquivo + \"ResponsavelDP.csv\"))\n",
    "\n",
    "#Criando coluna com a data da carga\n",
    "tbLogRespDP['dtCarga'] = dtCarga\n",
    "\n",
    "#selecionando a coluna COD_DP como novo index\n",
    "#tbLogRespDP = tbLogRespDP.set_index(\"COD_DP\")"
   ]
  },
  {
   "cell_type": "markdown",
   "id": "049ae530",
   "metadata": {},
   "source": [
    "# CONECTANDO NO ODS E INFORMANDO AO PYTHON QUE USAREI LINGUAGEM SQL"
   ]
  },
  {
   "cell_type": "code",
   "execution_count": 142,
   "id": "c6c50428",
   "metadata": {},
   "outputs": [],
   "source": [
    "#Conectar no BDODS\n",
    "conexaoODS = sql.connect(BDODS)\n",
    "\n",
    "#Definição de manipulação de dados em SQL\n",
    "SQL_ODS = conexaoODS.cursor()"
   ]
  },
  {
   "cell_type": "markdown",
   "id": "1c9f425d",
   "metadata": {},
   "source": [
    "# INSERINDO DADOS DAS DELEGACIAS DE POLÍCIA, NO SQLITE (ODS) "
   ]
  },
  {
   "cell_type": "code",
   "execution_count": 143,
   "id": "ffe7af5b",
   "metadata": {},
   "outputs": [
    {
     "name": "stdout",
     "output_type": "stream",
     "text": [
      "Iniciando a inserção de dados na tabela tbLogDP.\n",
      "-------------------------------------------------\n",
      "Carga finalizada! 137 registros inseridos na tbLogDP!\n"
     ]
    }
   ],
   "source": [
    "#Inserindo registros na tabela tbLogDP\n",
    "print(\"Iniciando a inserção de dados na tabela tbLogDP.\")\n",
    "print(\"-------------------------------------------------\")\n",
    "\n",
    "SQL_ODS.executemany('''INSERT INTO tbLogDP (codDP,nmDP,endereco,dtCarga) VALUES (?,?,?,?)''',tbLogDP.values.tolist())\n",
    "\n",
    "#confirmar a transação\n",
    "conexaoODS.commit()\n",
    "\n",
    "#Exibir uma mensagem de conclusão de carga\n",
    "print(\"Carga finalizada!\",len(tbLogDP), \"registros inseridos na tbLogDP!\")"
   ]
  },
  {
   "cell_type": "markdown",
   "id": "29d4babd",
   "metadata": {},
   "source": [
    "# INSERINDO DADOS DOS RESPONSÁVEIS PELAS DELEGACIAS DE POLÍCIA, NO SQLITE (ODS) "
   ]
  },
  {
   "cell_type": "code",
   "execution_count": 144,
   "id": "e09ab3d0",
   "metadata": {},
   "outputs": [
    {
     "name": "stdout",
     "output_type": "stream",
     "text": [
      "Iniciando a inserção de dados na tabela tbLogRespDP.\n",
      "-------------------------------------------------\n",
      "Carga finalizada! 137 registros inseridos na tbLogDP!\n"
     ]
    }
   ],
   "source": [
    "#Inserindo registros na tabela tbLogDP\n",
    "print(\"Iniciando a inserção de dados na tabela tbLogRespDP.\")\n",
    "print(\"-------------------------------------------------\")\n",
    "\n",
    "SQL_ODS.executemany('''INSERT INTO tbLogRespDP (codDP,nmResponsavel,dtCarga) VALUES (?,?,?)''',tbLogRespDP.values.tolist())\n",
    "\n",
    "#confirmar a transação\n",
    "conexaoODS.commit()\n",
    "\n",
    "#Exibir uma mensagem de conclusão de carga\n",
    "print(\"Carga finalizada!\",len(tbLogRespDP), \"registros inseridos na tbLogDP!\")"
   ]
  },
  {
   "cell_type": "markdown",
   "id": "7bc111e9",
   "metadata": {},
   "source": [
    "# VALIDANDO CARGA DOS DADOS DE DP E DE RESPONSÁVEL DP"
   ]
  },
  {
   "cell_type": "code",
   "execution_count": 145,
   "id": "1d2fe1eb",
   "metadata": {},
   "outputs": [],
   "source": [
    "#validar a carga através de um select na tblogDP\n",
    "#pd.read_sql(\"SELECT * FROM tbLogDP\",conexaoODS)"
   ]
  },
  {
   "cell_type": "code",
   "execution_count": 146,
   "id": "3450239c",
   "metadata": {},
   "outputs": [],
   "source": [
    "#validar a carga através de um select na tblogRespDP\n",
    "#pd.read_sql(\"SELECT * FROM tbLogRespDP\",conexaoODS)"
   ]
  },
  {
   "cell_type": "markdown",
   "id": "5ea3cd64",
   "metadata": {},
   "source": [
    "# CRIANDO O DATAFRAME COM O SELECT DE CRIAÇÃO DA DIMENSÃO DP (dDP), NO DW"
   ]
  },
  {
   "cell_type": "code",
   "execution_count": 147,
   "id": "3e5a502c",
   "metadata": {},
   "outputs": [],
   "source": [
    "#Definir a query de criação da dimensão dDP\n",
    "\n",
    "qry_dDP = '''\n",
    "    SELECT \n",
    "        codDP,\n",
    "        nmDP,\n",
    "        endereco,\n",
    "        nmResponsavel\n",
    "    FROM\n",
    "    (\n",
    "        SELECT\n",
    "            a.codDP,\n",
    "            a.nmDP,\n",
    "            a.endereco,\n",
    "            b.nmResponsavel,\n",
    "            max(a.dtCarga)\n",
    "        FROM tbLogDP a\n",
    "        JOIN tbLogRespDP b\n",
    "        on a.codDP = b.codDP\n",
    "        WHERE a.dtCarga = (SELECT max(x.dtCarga) FROM tbLogDP x)\n",
    "        GROUP BY\n",
    "            a.codDP,\n",
    "            a.nmDP,\n",
    "            a.endereco,\n",
    "            b.nmResponsavel\n",
    "    ) a\n",
    "'''\n",
    "\n",
    "dDP = pd.read_sql(qry_dDP,conexaoODS)"
   ]
  },
  {
   "cell_type": "markdown",
   "id": "72ae3709",
   "metadata": {},
   "source": [
    "# COLETANDO DADOS DOS BATALHÕES DE POLÍCIA MILITAR (BPM)"
   ]
  },
  {
   "cell_type": "code",
   "execution_count": 148,
   "id": "c044cd8e",
   "metadata": {},
   "outputs": [],
   "source": [
    "#Criar Data Frame com os dados dos BPMs\n",
    "tbLogBPM = pd.DataFrame(pd.read_excel(LocalArquivo + \"BPM.xlsx\"))\n",
    "\n",
    "#Criando coluna com a data da carga\n",
    "tbLogBPM['dtCarga'] = dtCarga\n"
   ]
  },
  {
   "cell_type": "markdown",
   "id": "b9faf9c7",
   "metadata": {},
   "source": [
    "# CONSTRUINDO A TABELA DE LOG DE REGISTROS DO BPM (tbLogBPM), no ODS"
   ]
  },
  {
   "cell_type": "code",
   "execution_count": 149,
   "id": "24b06848",
   "metadata": {},
   "outputs": [
    {
     "data": {
      "text/plain": [
       "<sqlite3.Cursor at 0x24d7db46c70>"
      ]
     },
     "execution_count": 149,
     "metadata": {},
     "output_type": "execute_result"
    }
   ],
   "source": [
    "#Definir a query de criação da tabela\n",
    "qry_tbLogBPM = '''\n",
    "    \n",
    "    CREATE TABLE IF NOT EXISTS tbLogBPM (\n",
    "    \n",
    "    codBPM INTEGER,\n",
    "    nmBPM VARCHAR (7),\n",
    "    enderecoBPM VARCHAR (200),\n",
    "    dtCarga DATETIME\n",
    "\n",
    "    )\n",
    "'''\n",
    "\n",
    "#executar a criação da tbLogBPM\n",
    "SQL_ODS.execute(qry_tbLogBPM)\n",
    "\n",
    "#definição da qry de criação de index\n",
    "qry_idx_tbLogBPM_codBPM = \"CREATE INDEX IF NOT EXISTS idx_tbLogBPM_codBPM ON tbLogBPM (codBPM)\"\n",
    "\n",
    "#executar a criação do index\n",
    "SQL_ODS.execute(qry_idx_tbLogBPM_codBPM)"
   ]
  },
  {
   "cell_type": "markdown",
   "id": "43a8cf20",
   "metadata": {},
   "source": [
    "# INSERINDO DADOS DE BPM NA TABELA tbLogBPM"
   ]
  },
  {
   "cell_type": "code",
   "execution_count": 150,
   "id": "6a33d6ba",
   "metadata": {},
   "outputs": [
    {
     "name": "stdout",
     "output_type": "stream",
     "text": [
      "Iniciando a inserção de dados na tabela tbLogBPM.\n",
      "-------------------------------------------------\n",
      "Carga finalizada! 41 registros inseridos na tbLogBPM!\n"
     ]
    }
   ],
   "source": [
    "#Inserindo registros na tabela tbLogBPM\n",
    "print(\"Iniciando a inserção de dados na tabela tbLogBPM.\")\n",
    "print(\"-------------------------------------------------\")\n",
    "\n",
    "SQL_ODS.executemany('''INSERT INTO tbLogBPM (codBPM,nmBPM,enderecoBPM,dtCarga) VALUES (?,?,?,?)''',tbLogBPM.values.tolist())\n",
    "\n",
    "#confirmar a transação\n",
    "conexaoODS.commit()\n",
    "\n",
    "#Exibir uma mensagem de conclusão de carga\n",
    "print(\"Carga finalizada!\",len(tbLogBPM), \"registros inseridos na tbLogBPM!\")"
   ]
  },
  {
   "cell_type": "markdown",
   "id": "ef474303",
   "metadata": {},
   "source": [
    "# COLETANDO DADOS DA ÁREA DOS BATALHÕES DE POLÍCIA MILITAR (BPM)"
   ]
  },
  {
   "cell_type": "code",
   "execution_count": 151,
   "id": "3c7bd8a4",
   "metadata": {},
   "outputs": [],
   "source": [
    "#Criar Data Frame com os dados dos BPMs\n",
    "tbLogAreaBPM = pd.DataFrame(pd.read_csv(LocalArquivo + \"areaBPMv1.csv\"))\n",
    "\n",
    "#Criando coluna com a data da carga\n",
    "tbLogAreaBPM['dtCarga'] = dtCarga\n"
   ]
  },
  {
   "cell_type": "markdown",
   "id": "07b1d113",
   "metadata": {},
   "source": [
    "# CONSTRUINDO A TABELA DE LOG DE REGISTROS DA ÁREA DOS BPMs (tbLogAreaBPM), no ODS"
   ]
  },
  {
   "cell_type": "code",
   "execution_count": 152,
   "id": "93f57a0a",
   "metadata": {},
   "outputs": [
    {
     "data": {
      "text/plain": [
       "<sqlite3.Cursor at 0x24d7db46c70>"
      ]
     },
     "execution_count": 152,
     "metadata": {},
     "output_type": "execute_result"
    }
   ],
   "source": [
    "#Definir a query de criação da tabela\n",
    "qry_tbLogAreaBPM = '''\n",
    "    \n",
    "    CREATE TABLE IF NOT EXISTS tbLogAreaBPM (\n",
    "    \n",
    "    codBPM INTEGER,\n",
    "    areaBPM REAL (5,2),\n",
    "    dtCarga DATETIME\n",
    "\n",
    "    )\n",
    "'''\n",
    "\n",
    "#executar a criação da tbLogAreaBPM\n",
    "SQL_ODS.execute(qry_tbLogAreaBPM)\n",
    "\n",
    "#definição da qry de criação de index\n",
    "qry_idx_tbLogAreaBPM_codBPM = \"CREATE INDEX IF NOT EXISTS idx_tbLogAreaBPM_codBPM ON tbLogAreaBPM (codBPM)\"\n",
    "\n",
    "#executar a criação do index\n",
    "SQL_ODS.execute(qry_idx_tbLogAreaBPM_codBPM)"
   ]
  },
  {
   "cell_type": "markdown",
   "id": "83b59094",
   "metadata": {},
   "source": [
    "# INSERINDO DADOS DA ÁREA DOS BPMs NA TABELA tbLogAreaBPM"
   ]
  },
  {
   "cell_type": "code",
   "execution_count": 153,
   "id": "a1ef7179",
   "metadata": {},
   "outputs": [
    {
     "name": "stdout",
     "output_type": "stream",
     "text": [
      "Iniciando a inserção de dados na tabela tbLogAreaBPM.\n",
      "-------------------------------------------------\n",
      "Carga finalizada! 41 registros inseridos na tbLogAreaBPM!\n"
     ]
    }
   ],
   "source": [
    "#Inserindo registros na tabela tbLogAreaBPM\n",
    "print(\"Iniciando a inserção de dados na tabela tbLogAreaBPM.\")\n",
    "print(\"-------------------------------------------------\")\n",
    "\n",
    "SQL_ODS.executemany('''INSERT INTO tbLogAreaBPM (codBPM,areaBPM,dtCarga) VALUES (?,?,?)''',tbLogAreaBPM.values.tolist())\n",
    "\n",
    "#confirmar a transação\n",
    "conexaoODS.commit()\n",
    "\n",
    "#Exibir uma mensagem de conclusão de carga\n",
    "print(\"Carga finalizada!\",len(tbLogAreaBPM), \"registros inseridos na tbLogAreaBPM!\")"
   ]
  },
  {
   "cell_type": "markdown",
   "id": "1b74da0b",
   "metadata": {},
   "source": [
    "# CRIANDO O DATAFRAME COM O SELECT DE CRIAÇÃO DA DIMENSÃO DP (dBPM), NO DW"
   ]
  },
  {
   "cell_type": "code",
   "execution_count": 154,
   "id": "08137459",
   "metadata": {},
   "outputs": [],
   "source": [
    "#Definir a query de criação da dimensão dBPM\n",
    "\n",
    "qry_dBPM = '''\n",
    "    SELECT\n",
    "        codBPM,\n",
    "        nmBPM,\n",
    "        enderecoBPM,\n",
    "        areaBPM\n",
    "    FROM \n",
    "    (\n",
    "        SELECT \n",
    "            a.codBPM,\n",
    "            a.nmBPM,\n",
    "            a.enderecoBPM,\n",
    "            b.areaBPM,\n",
    "            max(a.dtCarga)\n",
    "        FROM tbLogBPM a\n",
    "        JOIN tbLogAreaBPM b\n",
    "        ON a.codBPM = b.codBPM\n",
    "        WHERE a.dtCarga = (\n",
    "                            SELECT MAX(x.dtCarga)\n",
    "                            FROM tbLogBPM x\n",
    "                       )\n",
    "        GROUP BY\n",
    "            a.codBPM,\n",
    "            a.nmBPM,\n",
    "            a.enderecoBPM,\n",
    "            b.areaBPM\n",
    "    ) a\n",
    "'''\n",
    "\n",
    "dBPM = pd.read_sql(qry_dBPM,conexaoODS)"
   ]
  },
  {
   "cell_type": "markdown",
   "id": "2cda7016",
   "metadata": {},
   "source": [
    "# COLETA DOS DADOS DOS REGISTROS DE OCORRÊNCIAS"
   ]
  },
  {
   "cell_type": "code",
   "execution_count": 155,
   "id": "dcfd2938",
   "metadata": {},
   "outputs": [],
   "source": [
    "#Criar Data Frame com os dados dos registros das ocorrências\n",
    "tbLogOcorrencias = pd.DataFrame(pd.read_csv(LocalArquivo + \"OcorrenciaV2.csv\"))\n",
    "\n",
    "#Criando coluna com a data da carga\n",
    "tbLogOcorrencias['dtCarga'] = dtCarga\n",
    "\n",
    "#tbLogOcorrencias"
   ]
  },
  {
   "cell_type": "markdown",
   "id": "2e4a4290",
   "metadata": {},
   "source": [
    "# CRIANDO A TABELA tbLogOcorrencias, no SQLite, via SQL"
   ]
  },
  {
   "cell_type": "code",
   "execution_count": 156,
   "id": "fe5fd4d5",
   "metadata": {},
   "outputs": [],
   "source": [
    "#definição da qry de criação da tbLogOcorrrencias\n",
    "\n",
    "qry_create_tbLogOcorrencias = '''\n",
    "\n",
    "    CREATE TABLE IF NOT EXISTS tbLogOcorrencias (\n",
    "    \n",
    "    codDP INTEGER,\n",
    "    codBPM INTEGER,\n",
    "    ano INTEGER,\n",
    "    mes INTEGER,\n",
    "    mes_ano CHAR(7),\n",
    "    regiao INTEGER,\n",
    "    codMunicIBGE INTEGER,\n",
    "    ocorrencias VARCHAR(100),\n",
    "    qtde INTEGER,\n",
    "    dtCarga DATETIME\n",
    "    \n",
    "    )\n",
    "\n",
    "'''\n",
    "\n",
    "#criando a tbLogOcorrencias\n",
    "SQL_ODS.execute(qry_create_tbLogOcorrencias)\n",
    "\n",
    "#Criação de index\n",
    "SQL_ODS.execute(\"CREATE INDEX IF NOT EXISTS idx_tbLogOcorrencias ON tbLogOcorrencias (codDP,codBPM,codMunicIBGE)\")\n",
    "\n",
    "#confirmar a transação\n",
    "conexaoODS.commit()"
   ]
  },
  {
   "cell_type": "markdown",
   "id": "fe977147",
   "metadata": {},
   "source": [
    "# CARREGANDO DADOS NA tbLogOcorrencias\n"
   ]
  },
  {
   "cell_type": "code",
   "execution_count": 157,
   "id": "da75a172",
   "metadata": {},
   "outputs": [
    {
     "name": "stdout",
     "output_type": "stream",
     "text": [
      "Iniciando a carga de dados na tbLogOcorrencias\n",
      "-----------------------------------------------\n",
      "Fim da carga de dados da tbLogOcorrencias! 124006 Registros inseridos!\n"
     ]
    }
   ],
   "source": [
    "#inserindo dados na tbLogOcorrencias\n",
    "print(\"Iniciando a carga de dados na tbLogOcorrencias\")\n",
    "print(\"-----------------------------------------------\")\n",
    "SQL_ODS.executemany('''\n",
    "\n",
    "    INSERT INTO tbLogOcorrencias (codDP,codBPM,ano,mes,mes_ano,regiao,codMunicIBGE,ocorrencias,qtde,dtCarga)\n",
    "    VALUES(?,?,?,?,?,?,?,?,?,?)    \n",
    "    ''', \n",
    "    tbLogOcorrencias.values.tolist()\n",
    "\n",
    ")\n",
    "\n",
    "#confirmar a transação\n",
    "conexaoODS.commit()\n",
    "\n",
    "print(\"Fim da carga de dados da tbLogOcorrencias!\",len(tbLogOcorrencias),\"Registros inseridos!\")"
   ]
  },
  {
   "cell_type": "markdown",
   "id": "c0aa2538",
   "metadata": {},
   "source": [
    "# CRIANDO O DATAFRAME COM O RESULTADO DA QUERY DE CARGA DE DADOS DAS OCORRÊNCIAS"
   ]
  },
  {
   "cell_type": "code",
   "execution_count": 158,
   "id": "1a559672",
   "metadata": {},
   "outputs": [
    {
     "data": {
      "text/html": [
       "<div>\n",
       "<style scoped>\n",
       "    .dataframe tbody tr th:only-of-type {\n",
       "        vertical-align: middle;\n",
       "    }\n",
       "\n",
       "    .dataframe tbody tr th {\n",
       "        vertical-align: top;\n",
       "    }\n",
       "\n",
       "    .dataframe thead th {\n",
       "        text-align: right;\n",
       "    }\n",
       "</style>\n",
       "<table border=\"1\" class=\"dataframe\">\n",
       "  <thead>\n",
       "    <tr style=\"text-align: right;\">\n",
       "      <th></th>\n",
       "      <th>codDP</th>\n",
       "      <th>codBPM</th>\n",
       "      <th>ano</th>\n",
       "      <th>mes</th>\n",
       "      <th>regiao</th>\n",
       "      <th>codMunicIBGE</th>\n",
       "      <th>ocorrencias</th>\n",
       "      <th>qtde</th>\n",
       "    </tr>\n",
       "  </thead>\n",
       "  <tbody>\n",
       "    <tr>\n",
       "      <th>0</th>\n",
       "      <td>1</td>\n",
       "      <td>5</td>\n",
       "      <td>2018</td>\n",
       "      <td>1</td>\n",
       "      <td>1</td>\n",
       "      <td>3304557</td>\n",
       "      <td>ameaca</td>\n",
       "      <td>7</td>\n",
       "    </tr>\n",
       "    <tr>\n",
       "      <th>1</th>\n",
       "      <td>1</td>\n",
       "      <td>5</td>\n",
       "      <td>2018</td>\n",
       "      <td>1</td>\n",
       "      <td>1</td>\n",
       "      <td>3304557</td>\n",
       "      <td>apreensao_drogas</td>\n",
       "      <td>3</td>\n",
       "    </tr>\n",
       "    <tr>\n",
       "      <th>2</th>\n",
       "      <td>1</td>\n",
       "      <td>5</td>\n",
       "      <td>2018</td>\n",
       "      <td>1</td>\n",
       "      <td>1</td>\n",
       "      <td>3304557</td>\n",
       "      <td>estelionato</td>\n",
       "      <td>81</td>\n",
       "    </tr>\n",
       "    <tr>\n",
       "      <th>3</th>\n",
       "      <td>1</td>\n",
       "      <td>5</td>\n",
       "      <td>2018</td>\n",
       "      <td>1</td>\n",
       "      <td>1</td>\n",
       "      <td>3304557</td>\n",
       "      <td>estupro</td>\n",
       "      <td>1</td>\n",
       "    </tr>\n",
       "    <tr>\n",
       "      <th>4</th>\n",
       "      <td>1</td>\n",
       "      <td>5</td>\n",
       "      <td>2018</td>\n",
       "      <td>1</td>\n",
       "      <td>1</td>\n",
       "      <td>3304557</td>\n",
       "      <td>extorsao</td>\n",
       "      <td>3</td>\n",
       "    </tr>\n",
       "    <tr>\n",
       "      <th>...</th>\n",
       "      <td>...</td>\n",
       "      <td>...</td>\n",
       "      <td>...</td>\n",
       "      <td>...</td>\n",
       "      <td>...</td>\n",
       "      <td>...</td>\n",
       "      <td>...</td>\n",
       "      <td>...</td>\n",
       "    </tr>\n",
       "    <tr>\n",
       "      <th>124001</th>\n",
       "      <td>168</td>\n",
       "      <td>33</td>\n",
       "      <td>2018</td>\n",
       "      <td>12</td>\n",
       "      <td>3</td>\n",
       "      <td>3304409</td>\n",
       "      <td>recuperacao_veiculos</td>\n",
       "      <td>1</td>\n",
       "    </tr>\n",
       "    <tr>\n",
       "      <th>124002</th>\n",
       "      <td>168</td>\n",
       "      <td>33</td>\n",
       "      <td>2018</td>\n",
       "      <td>12</td>\n",
       "      <td>3</td>\n",
       "      <td>3304409</td>\n",
       "      <td>roubo_rua</td>\n",
       "      <td>1</td>\n",
       "    </tr>\n",
       "    <tr>\n",
       "      <th>124003</th>\n",
       "      <td>168</td>\n",
       "      <td>33</td>\n",
       "      <td>2018</td>\n",
       "      <td>12</td>\n",
       "      <td>3</td>\n",
       "      <td>3304409</td>\n",
       "      <td>roubo_transeunte</td>\n",
       "      <td>1</td>\n",
       "    </tr>\n",
       "    <tr>\n",
       "      <th>124004</th>\n",
       "      <td>168</td>\n",
       "      <td>33</td>\n",
       "      <td>2018</td>\n",
       "      <td>12</td>\n",
       "      <td>3</td>\n",
       "      <td>3304409</td>\n",
       "      <td>tentat_hom</td>\n",
       "      <td>2</td>\n",
       "    </tr>\n",
       "    <tr>\n",
       "      <th>124005</th>\n",
       "      <td>168</td>\n",
       "      <td>32</td>\n",
       "      <td>2018</td>\n",
       "      <td>12</td>\n",
       "      <td>3</td>\n",
       "      <td>3304409</td>\n",
       "      <td>tentat_hom</td>\n",
       "      <td>2222222</td>\n",
       "    </tr>\n",
       "  </tbody>\n",
       "</table>\n",
       "<p>124006 rows × 8 columns</p>\n",
       "</div>"
      ],
      "text/plain": [
       "        codDP  codBPM   ano  mes  regiao  codMunicIBGE           ocorrencias  \\\n",
       "0           1       5  2018    1       1       3304557                ameaca   \n",
       "1           1       5  2018    1       1       3304557      apreensao_drogas   \n",
       "2           1       5  2018    1       1       3304557           estelionato   \n",
       "3           1       5  2018    1       1       3304557               estupro   \n",
       "4           1       5  2018    1       1       3304557              extorsao   \n",
       "...       ...     ...   ...  ...     ...           ...                   ...   \n",
       "124001    168      33  2018   12       3       3304409  recuperacao_veiculos   \n",
       "124002    168      33  2018   12       3       3304409             roubo_rua   \n",
       "124003    168      33  2018   12       3       3304409      roubo_transeunte   \n",
       "124004    168      33  2018   12       3       3304409            tentat_hom   \n",
       "124005    168      32  2018   12       3       3304409            tentat_hom   \n",
       "\n",
       "           qtde  \n",
       "0             7  \n",
       "1             3  \n",
       "2            81  \n",
       "3             1  \n",
       "4             3  \n",
       "...         ...  \n",
       "124001        1  \n",
       "124002        1  \n",
       "124003        1  \n",
       "124004        2  \n",
       "124005  2222222  \n",
       "\n",
       "[124006 rows x 8 columns]"
      ]
     },
     "execution_count": 158,
     "metadata": {},
     "output_type": "execute_result"
    }
   ],
   "source": [
    "#definição da query de carga de dados\n",
    "\n",
    "qry_fOcorrencias = '''\n",
    "\n",
    "    SELECT\n",
    "        a.codDP,\n",
    "        a.codBPM,\n",
    "        a.ano,\n",
    "        a.mes,\n",
    "        a.regiao,\n",
    "        a.codMunicIBGE,\n",
    "        a.ocorrencias,\n",
    "        a.qtde\n",
    "    FROM tbLogOcorrencias a\n",
    "    WHERE a.dtCarga = (\n",
    "                        SELECT MAX(dtCarga)\n",
    "                        FROM tbLogOcorrencias\n",
    "                        )\n",
    "\n",
    "'''\n",
    "\n",
    "#popular o dataframe\n",
    "fOcorrencias = pd.read_sql(qry_fOcorrencias,conexaoODS)\n",
    "\n",
    "fOcorrencias"
   ]
  },
  {
   "cell_type": "markdown",
   "id": "c577ee97",
   "metadata": {},
   "source": [
    "# FECHANDO A CONEXÃO COM O ODS"
   ]
  },
  {
   "cell_type": "code",
   "execution_count": 159,
   "id": "35f49f77",
   "metadata": {},
   "outputs": [],
   "source": [
    "#Confirmar a transação\n",
    "conexaoODS.commit()\n",
    "\n",
    "#Fechar a conexão\n",
    "conexaoODS.close()"
   ]
  },
  {
   "cell_type": "markdown",
   "id": "d2b4dddc",
   "metadata": {},
   "source": [
    "# CONECTANDO NO DW E INFORMANDO AO PYTHON QUE USAREI LINGUAGEM SQL"
   ]
  },
  {
   "cell_type": "code",
   "execution_count": 160,
   "id": "9fa0b30b",
   "metadata": {},
   "outputs": [],
   "source": [
    "#Conectar no BDDW\n",
    "conexaoDW = sql.connect(BDDW)\n",
    "\n",
    "#Definição de manipulação de dados em SQL\n",
    "SQL_DW = conexaoDW.cursor()"
   ]
  },
  {
   "cell_type": "markdown",
   "id": "edfba2ec",
   "metadata": {},
   "source": [
    "# DELETANDO DADOS ANTIGOS E REINICIANDO AO AUTOINCREMENTAL DA CHAVE, DA TABELA dDP"
   ]
  },
  {
   "cell_type": "code",
   "execution_count": 161,
   "id": "26c791ce",
   "metadata": {},
   "outputs": [],
   "source": [
    "#Deletar os dados atuais\n",
    "SQL_DW.execute(\"DELETE FROM dDP\")\n",
    "\n",
    "#Reiniciando o autoincramental da chave\n",
    "SQL_DW.execute(\"UPDATE sqlite_sequence SET seq=0 WHERE name='dDP'\")\n",
    "\n",
    "#Confirmar a transação\n",
    "conexaoDW.commit()"
   ]
  },
  {
   "cell_type": "markdown",
   "id": "29e6e44f",
   "metadata": {},
   "source": [
    "# INSERINDO DADOS NA DIMENSÃO DP (dDP), NO DW"
   ]
  },
  {
   "cell_type": "code",
   "execution_count": 162,
   "id": "bd4a8d7e",
   "metadata": {},
   "outputs": [
    {
     "name": "stdout",
     "output_type": "stream",
     "text": [
      "Iniciando a inserção de dados na tabela dDP.\n",
      "-------------------------------------------------\n",
      "Carga finalizada! 137 registros inseridos na tbLogDP!\n"
     ]
    }
   ],
   "source": [
    "#Inserindo registros na tabela dDP\n",
    "print(\"Iniciando a inserção de dados na tabela dDP.\")\n",
    "print(\"-------------------------------------------------\")\n",
    "\n",
    "SQL_DW.executemany('''INSERT INTO dDP (codDP,nmDP,endereco,nmResponsavel) VALUES (?,?,?,?)''',dDP.values.tolist())\n",
    "\n",
    "#confirmar a transação\n",
    "conexaoDW.commit()\n",
    "\n",
    "#Exibir uma mensagem de conclusão de carga\n",
    "print(\"Carga finalizada!\",len(dDP), \"registros inseridos na tbLogDP!\")"
   ]
  },
  {
   "cell_type": "markdown",
   "id": "b6ec359c",
   "metadata": {},
   "source": [
    "# VALIDANDO CARGA DOS DADOS DA DIMENSÃO DP (dDP)"
   ]
  },
  {
   "cell_type": "code",
   "execution_count": 163,
   "id": "a7faf0a4",
   "metadata": {},
   "outputs": [],
   "source": [
    "#validar a carga através de um select na tblogDP\n",
    "#pd.read_sql(\"SELECT * FROM dDP\",conexaoDW)"
   ]
  },
  {
   "cell_type": "markdown",
   "id": "71d15fec",
   "metadata": {},
   "source": [
    "# CONSTRUINDO A TABELA DE DIMENSÃO BPM (dBPM), no DW"
   ]
  },
  {
   "cell_type": "code",
   "execution_count": 164,
   "id": "32a51817",
   "metadata": {},
   "outputs": [],
   "source": [
    "#Definir a query de criação da tabela\n",
    "qry_dBPM = '''\n",
    "    \n",
    "    CREATE TABLE IF NOT EXISTS dBPM (\n",
    "    \n",
    "    idBPM INTEGER PRIMARY KEY AUTOINCREMENT,\n",
    "    codBPM INTEGER,\n",
    "    nmBPM VARCHAR (7),\n",
    "    enderecoBPM VARCHAR (200),\n",
    "    areaBPM REAL (5,2)\n",
    "\n",
    "    )\n",
    "'''\n",
    "\n",
    "#executar a criação da tbLogBPM\n",
    "SQL_DW.execute(qry_dBPM)\n",
    "\n",
    "#executar a criação do index idBPM\n",
    "SQL_DW.execute(\"CREATE INDEX IF NOT EXISTS idx_dBPM_idBPM ON dBPM (idBPM)\")\n",
    "\n",
    "#executar a criação do index codBPM\n",
    "SQL_DW.execute(\"CREATE INDEX IF NOT EXISTS idx_dBPM_codBPM ON dBPM (codBPM)\")\n",
    "\n",
    "#Confirmar a transação\n",
    "conexaoDW.commit()"
   ]
  },
  {
   "cell_type": "markdown",
   "id": "ee752eef",
   "metadata": {},
   "source": [
    "# CONSTRUINDO A TABELA DE DIMENSÃO PERIODO (dPeriodo), no DW"
   ]
  },
  {
   "cell_type": "code",
   "execution_count": 165,
   "id": "a2bd1bab",
   "metadata": {},
   "outputs": [],
   "source": [
    "#Definir a query de criação da tabela\n",
    "qry_dPeriodo = '''\n",
    "    \n",
    "    CREATE TABLE IF NOT EXISTS dPeriodo (\n",
    "    \n",
    "    idPeriodo INTEGER PRIMARY KEY AUTOINCREMENT,\n",
    "    data DATETIME,\n",
    "    mes INTEGER,\n",
    "    ano INTEGER,\n",
    "    trimestre INTEGER,\n",
    "    semestre INTEGER\n",
    "\n",
    "    )\n",
    "'''\n",
    "\n",
    "#executar a criação da dPeriodo\n",
    "SQL_DW.execute(qry_dPeriodo)\n",
    "\n",
    "#executar a criação do index idPeriodo\n",
    "SQL_DW.execute(\"CREATE UNIQUE INDEX IF NOT EXISTS idx_dPeriodo_idPeriodo ON dPeriodo (idPeriodo)\")\n",
    "\n",
    "#executar a criação do index codBPM\n",
    "SQL_DW.execute(\"CREATE INDEX IF NOT EXISTS idx_dPeriodo ON dPeriodo (mes,ano,trimestre,semestre)\")\n",
    "\n",
    "#Confirmar a transação\n",
    "conexaoDW.commit()"
   ]
  },
  {
   "cell_type": "markdown",
   "id": "b66a39f3",
   "metadata": {},
   "source": [
    "# DELETANDO DADOS ANTIGOS E REINICIANDO AO AUTOINCREMENTAL DA CHAVE, DA TABELA dBPM"
   ]
  },
  {
   "cell_type": "code",
   "execution_count": 166,
   "id": "a0403ce5",
   "metadata": {},
   "outputs": [],
   "source": [
    "#Deletar os dados atuais\n",
    "SQL_DW.execute(\"DELETE FROM dBPM\")\n",
    "\n",
    "#Reiniciando o autoincramental da chave\n",
    "SQL_DW.execute(\"UPDATE sqlite_sequence SET seq=0 WHERE name='dBPM'\")\n",
    "\n",
    "#Confirmar a transação\n",
    "conexaoDW.commit()"
   ]
  },
  {
   "cell_type": "markdown",
   "id": "207ebfba",
   "metadata": {},
   "source": [
    "# INSERINDO DADOS NA DIMENSÃO BPM (dBPM), NO DW"
   ]
  },
  {
   "cell_type": "code",
   "execution_count": 167,
   "id": "d4baad10",
   "metadata": {},
   "outputs": [
    {
     "name": "stdout",
     "output_type": "stream",
     "text": [
      "Iniciando a inserção de dados na tabela dBPM.\n",
      "-------------------------------------------------\n",
      "Carga finalizada! 41 registros inseridos na tbLogDP!\n"
     ]
    }
   ],
   "source": [
    "#Inserindo registros na tabela dBPM\n",
    "print(\"Iniciando a inserção de dados na tabela dBPM.\")\n",
    "print(\"-------------------------------------------------\")\n",
    "\n",
    "SQL_DW.executemany('''INSERT INTO dBPM (codBPM,nmBPM,enderecoBPM,areaBPM) VALUES (?,?,?,?)''',dBPM.values.tolist())\n",
    "\n",
    "#confirmar a transação\n",
    "conexaoDW.commit()\n",
    "\n",
    "#Exibir uma mensagem de conclusão de carga\n",
    "print(\"Carga finalizada!\",len(dBPM), \"registros inseridos na tbLogDP!\")"
   ]
  },
  {
   "cell_type": "markdown",
   "id": "b8f8d1e6",
   "metadata": {},
   "source": [
    "# DELETANDO DADOS ANTIGOS E REINICIANDO AO AUTOINCREMENTAL DA CHAVE, DA TABELA dPeriodo"
   ]
  },
  {
   "cell_type": "code",
   "execution_count": 168,
   "id": "4d943308",
   "metadata": {},
   "outputs": [],
   "source": [
    "#Deletar os dados atuais\n",
    "SQL_DW.execute(\"DELETE FROM dPeriodo\")\n",
    "\n",
    "#Reiniciando o autoincramental da chave\n",
    "SQL_DW.execute(\"UPDATE sqlite_sequence SET seq=0 WHERE name='dPeriodo'\")\n",
    "\n",
    "#Confirmar a transação\n",
    "conexaoDW.commit()"
   ]
  },
  {
   "cell_type": "markdown",
   "id": "95724084",
   "metadata": {},
   "source": [
    "# INSERINDO DADOS NA DIMENSÃO PERÍODO (dPeriodo), NO DW"
   ]
  },
  {
   "cell_type": "code",
   "execution_count": 169,
   "id": "527f5000",
   "metadata": {},
   "outputs": [
    {
     "name": "stdout",
     "output_type": "stream",
     "text": [
      "Iniciando a inserção de dados na tabela dPeriodo.\n",
      "-------------------------------------------------\n",
      "Carga finalizada! 53 registros inseridos na tbLogDP!\n"
     ]
    }
   ],
   "source": [
    "#Inserindo registros na tabela dPeriodo\n",
    "print(\"Iniciando a inserção de dados na tabela dPeriodo.\")\n",
    "print(\"-------------------------------------------------\")\n",
    "\n",
    "#definindo query de carga de dados da dPeriodo\n",
    "qry_dados_dPeriodo = '''\n",
    "\n",
    "    WITH data(d) AS\n",
    "        (\n",
    "            VALUES('2018-01-01')\n",
    "            UNION ALL\n",
    "            SELECT date(d,'+1 month')\n",
    "            FROM data\n",
    "            WHERE d < date('now')\n",
    "         )\n",
    "    SELECT \n",
    "         strftime('%d/%m/%Y', d) as data,\n",
    "         cast(strftime('%m', d) as integer) as mes,\n",
    "         cast(strftime('%Y', d) as integer) as ano,\n",
    "         case\n",
    "             when cast(strftime('%m', d) as integer) in (1,2,3) then 1 \n",
    "             when cast(strftime('%m', d) as integer) in (4,5,6) then 2\n",
    "             when cast(strftime('%m', d) as integer) in (7,8,9) then 3\n",
    "                                                                else 4\n",
    "         end as trimestre,\n",
    "         case\n",
    "             when cast(strftime('%m', d) as integer) in (1,2,3,4,5,6) then 1\n",
    "                                                                      else 2\n",
    "         end as semestre                                             \n",
    "    FROM data;\n",
    "\n",
    "'''\n",
    "#Carregando dados no DF dPeriodo\n",
    "dPeriodo = pd.read_sql(qry_dados_dPeriodo,conexaoDW)\n",
    "\n",
    "#Executar a carga de dados na dPeriodo\n",
    "SQL_DW.executemany('''INSERT INTO dPeriodo (data,mes,ano,trimestre,semestre) VALUES (?,?,?,?,?)''',dPeriodo.values.tolist())\n",
    "\n",
    "#confirmar a transação\n",
    "conexaoDW.commit()\n",
    "\n",
    "#Exibir uma mensagem de conclusão de carga\n",
    "print(\"Carga finalizada!\",len(dPeriodo), \"registros inseridos na tbLogDP!\")"
   ]
  },
  {
   "cell_type": "markdown",
   "id": "6ef1f3dc",
   "metadata": {},
   "source": [
    "# CRIANDO A TABELA FATO OCORRENCIAS, NO DW"
   ]
  },
  {
   "cell_type": "code",
   "execution_count": 170,
   "id": "73e6ff56",
   "metadata": {},
   "outputs": [],
   "source": [
    "#definindo a qry da criação da fOcorrencias\n",
    "\n",
    "qry_create_fOcorrencias = '''\n",
    "\n",
    "    CREATE TABLE IF NOT EXISTS fOcorrencias (\n",
    "    \n",
    "    idDP INTEGER REFERENCES dDP(idDP) ON UPDATE NO ACTION ON DELETE NO ACTION,\n",
    "    idBPM INTEGER REFERENCES dBPM(idBPM) ON UPDATE NO ACTION ON DELETE NO ACTION,\n",
    "    idPeriodo INTEGER REFERENCES dPeriodo(idPeriodo) ON UPDATE NO ACTION ON DELETE NO ACTION,\n",
    "    regiao INTEGER,\n",
    "    idMunic INTEGER REFERENCES dMunicipio(idMuni) ON UPDATE NO ACTION ON DELETE NO ACTION,\n",
    "    ocorrencias VARCHAR(100),\n",
    "    qtde INTEGER\n",
    "    \n",
    "    )\n",
    "\n",
    "'''\n",
    "\n",
    "#criação da fOcorrencias\n",
    "SQL_DW.execute(qry_create_fOcorrencias)\n",
    "\n",
    "#criação de index\n",
    "SQL_DW.execute(\"CREATE INDEX IF NOT EXISTS idx_fOcorrencias ON fOcorrencias(idDP,idBPM,idPeriodo,idMunic)\")\n",
    "               \n",
    "#confirmar a transação\n",
    "conexaoDW.commit()"
   ]
  },
  {
   "cell_type": "markdown",
   "id": "98f047ea",
   "metadata": {},
   "source": [
    "# INSERINDO DADOS NA FATO OCORRÊNCIAS (fOcorrencias) - CARGA INCREMENTAL"
   ]
  },
  {
   "cell_type": "code",
   "execution_count": 171,
   "id": "69720609",
   "metadata": {},
   "outputs": [],
   "source": [
    "#criar um tabela temporária\n",
    "fOcorrencias.to_sql('tempOcorrencias',conexaoDW,if_exists=\"replace\")"
   ]
  },
  {
   "cell_type": "code",
   "execution_count": 172,
   "id": "0797b1b6",
   "metadata": {},
   "outputs": [
    {
     "data": {
      "text/html": [
       "<div>\n",
       "<style scoped>\n",
       "    .dataframe tbody tr th:only-of-type {\n",
       "        vertical-align: middle;\n",
       "    }\n",
       "\n",
       "    .dataframe tbody tr th {\n",
       "        vertical-align: top;\n",
       "    }\n",
       "\n",
       "    .dataframe thead th {\n",
       "        text-align: right;\n",
       "    }\n",
       "</style>\n",
       "<table border=\"1\" class=\"dataframe\">\n",
       "  <thead>\n",
       "    <tr style=\"text-align: right;\">\n",
       "      <th></th>\n",
       "      <th>idDP</th>\n",
       "      <th>idBPM</th>\n",
       "      <th>idPeriodo</th>\n",
       "      <th>regiao</th>\n",
       "      <th>idMunic</th>\n",
       "      <th>ocorrencias</th>\n",
       "      <th>qtde</th>\n",
       "    </tr>\n",
       "  </thead>\n",
       "  <tbody>\n",
       "  </tbody>\n",
       "</table>\n",
       "</div>"
      ],
      "text/plain": [
       "Empty DataFrame\n",
       "Columns: [idDP, idBPM, idPeriodo, regiao, idMunic, ocorrencias, qtde]\n",
       "Index: []"
      ]
     },
     "execution_count": 172,
     "metadata": {},
     "output_type": "execute_result"
    }
   ],
   "source": [
    "#definindo a query de carga incremental\n",
    "qry_carga_incremental_focorrencias = '''\n",
    "\n",
    "    SELECT\n",
    "        b.idDP,\n",
    "        c.idBPM,\n",
    "        d.idPeriodo,\n",
    "        a.regiao,\n",
    "        e.idMunic,\n",
    "        a.ocorrencias,\n",
    "        a.qtde\n",
    "    FROM tempOcorrencias a\n",
    "    JOIN dDP b\n",
    "    ON a.codDP = b.codDP\n",
    "    JOIN dBPM c\n",
    "    ON a.codBPM = c.codBPM\n",
    "    JOIN dPeriodo d\n",
    "    ON (a.ano = d.ano) AND (a.mes = d.mes)\n",
    "    JOIN dMunicipio e\n",
    "    ON a.codMunicIBGE = e.codMunic\n",
    "    LEFT JOIN fOcorrencias g\n",
    "    ON b.idDP = g.idDP\n",
    "    AND c.idBPM = g.idBPM\n",
    "    AND d.idPeriodo = g.idPeriodo\n",
    "    AND e.idMunic = g.idMunic\n",
    "    WHERE g.idDP is null\n",
    "    AND g.idBPM is null\n",
    "    AND g.idPeriodo is null\n",
    "    AND g.idMunic is null\n",
    "\n",
    "'''\n",
    "\n",
    "#criando um DF Incremental\n",
    "carga_fOcorrencias = pd.read_sql(qry_carga_incremental_focorrencias,conexaoDW)\n",
    "\n",
    "carga_fOcorrencias"
   ]
  },
  {
   "cell_type": "code",
   "execution_count": 173,
   "id": "da74a33b",
   "metadata": {},
   "outputs": [
    {
     "name": "stdout",
     "output_type": "stream",
     "text": [
      "Carregando dados na tabela fOcorrencias.\n",
      "----------------------------------------\n",
      "Fim da carga incremental de dados na fOcorrencias! 0 registros inseridos!\n"
     ]
    }
   ],
   "source": [
    "#carregando dados na tabela fOcorrencias\n",
    "print(\"Carregando dados na tabela fOcorrencias.\")\n",
    "print(\"----------------------------------------\")\n",
    "\n",
    "SQL_DW.executemany('''\n",
    "\n",
    "    INSERT INTO fOcorrencias (idDP,idBPM,idPeriodo,regiao,idMunic,ocorrencias,qtde)\n",
    "    VALUES(?,?,?,?,?,?,?)''',\n",
    "    \n",
    "    carga_fOcorrencias.values.tolist()\n",
    ")\n",
    "\n",
    "\n",
    "\n",
    "#confirmar a transação\n",
    "conexaoDW.commit()\n",
    "\n",
    "print(\"Fim da carga incremental de dados na fOcorrencias!\",len(carga_fOcorrencias),\"registros inseridos!\")"
   ]
  },
  {
   "cell_type": "markdown",
   "id": "f5798cb3",
   "metadata": {},
   "source": [
    "# ATUALIZANDO DADOS NA FATO OCORRÊNCIAS (fOcorrencias) - ATUALIZAÇÃO RETROATIVA\n"
   ]
  },
  {
   "cell_type": "code",
   "execution_count": 174,
   "id": "05cc4bf7",
   "metadata": {},
   "outputs": [
    {
     "data": {
      "text/html": [
       "<div>\n",
       "<style scoped>\n",
       "    .dataframe tbody tr th:only-of-type {\n",
       "        vertical-align: middle;\n",
       "    }\n",
       "\n",
       "    .dataframe tbody tr th {\n",
       "        vertical-align: top;\n",
       "    }\n",
       "\n",
       "    .dataframe thead th {\n",
       "        text-align: right;\n",
       "    }\n",
       "</style>\n",
       "<table border=\"1\" class=\"dataframe\">\n",
       "  <thead>\n",
       "    <tr style=\"text-align: right;\">\n",
       "      <th></th>\n",
       "      <th>qtde</th>\n",
       "      <th>idDP</th>\n",
       "      <th>idBPM</th>\n",
       "      <th>idPeriodo</th>\n",
       "      <th>regiao</th>\n",
       "      <th>idMunic</th>\n",
       "      <th>ocorrencias</th>\n",
       "    </tr>\n",
       "  </thead>\n",
       "  <tbody>\n",
       "    <tr>\n",
       "      <th>0</th>\n",
       "      <td>7</td>\n",
       "      <td>1</td>\n",
       "      <td>5</td>\n",
       "      <td>1</td>\n",
       "      <td>1</td>\n",
       "      <td>68</td>\n",
       "      <td>ameaca</td>\n",
       "    </tr>\n",
       "    <tr>\n",
       "      <th>1</th>\n",
       "      <td>3</td>\n",
       "      <td>1</td>\n",
       "      <td>5</td>\n",
       "      <td>1</td>\n",
       "      <td>1</td>\n",
       "      <td>68</td>\n",
       "      <td>apreensao_drogas</td>\n",
       "    </tr>\n",
       "  </tbody>\n",
       "</table>\n",
       "</div>"
      ],
      "text/plain": [
       "   qtde  idDP  idBPM  idPeriodo  regiao  idMunic       ocorrencias\n",
       "0     7     1      5          1       1       68            ameaca\n",
       "1     3     1      5          1       1       68  apreensao_drogas"
      ]
     },
     "execution_count": 174,
     "metadata": {},
     "output_type": "execute_result"
    }
   ],
   "source": [
    "#definindo a qry de verificação da existÊncia de atualizações retroativas\n",
    "qry_atualizacao_fOcorrencias = '''\n",
    "\n",
    "    SELECT\n",
    "        a.qtde,\n",
    "        b.idDP,\n",
    "        c.idBPM,\n",
    "        d.idPeriodo,\n",
    "        a.regiao,\n",
    "        e.idMunic,\n",
    "        a.ocorrencias\n",
    "    FROM tempOcorrencias a\n",
    "    JOIN dDP b\n",
    "    ON a.codDP = b.codDP\n",
    "    JOIN dBPM c\n",
    "    ON a.codBPM = c.codBPM\n",
    "    JOIN dPeriodo d\n",
    "    ON (a.ano = d.ano) AND (a.mes = d.mes)\n",
    "    JOIN dMunicipio e\n",
    "    ON a.codMunicIBGE = e.codMunic\n",
    "    LEFT JOIN fOcorrencias g\n",
    "    ON b.idDP = g.idDP\n",
    "    AND c.idBPM = g.idBPM\n",
    "    AND d.idPeriodo = g.idPeriodo\n",
    "    AND e.idMunic = g.idMunic\n",
    "    AND a.regiao = g.regiao\n",
    "    AND a.ocorrencias = g.ocorrencias\n",
    "    WHERE a.qtde <> g.qtde\n",
    "    \n",
    "'''\n",
    "\n",
    "#criando um DF de atualização\n",
    "atualiza_fOcorrencias = pd.read_sql(qry_atualizacao_fOcorrencias,conexaoDW)\n",
    "\n",
    "atualiza_fOcorrencias"
   ]
  },
  {
   "cell_type": "code",
   "execution_count": 175,
   "id": "a1d5f0e1",
   "metadata": {},
   "outputs": [
    {
     "name": "stdout",
     "output_type": "stream",
     "text": [
      "Iniciando atualiazação na fato Ocorrências!\n",
      "Fim da atualização de dados na fato Ocorrências! 2 registros atualizados!\n"
     ]
    }
   ],
   "source": [
    "#atualizando os dados retroativos na fOcorrencias\n",
    "print(\"Iniciando atualiazação na fato Ocorrências!\")\n",
    "\n",
    "#definindo a qry de atualização\n",
    "qry_atualiza_fOcorrencias = '''\n",
    "\n",
    "    UPDATE fOcorrencias\n",
    "    SET qtde = ?\n",
    "    WHERE idDP = ?\n",
    "    AND idBPM = ?\n",
    "    AND idPeriodo = ?\n",
    "    AND regiao = ?\n",
    "    AND idMunic = ?\n",
    "    AND ocorrencias = ?\n",
    "\n",
    "'''\n",
    "#atualizando dados na fOcorrencias\n",
    "SQL_DW.executemany(qry_atualiza_fOcorrencias,atualiza_fOcorrencias.values.tolist())\n",
    "\n",
    "#confirmar a transação\n",
    "conexaoDW.commit()\n",
    "\n",
    "print(\"Fim da atualização de dados na fato Ocorrências!\",len(atualiza_fOcorrencias),\"registros atualizados!\")\n"
   ]
  },
  {
   "cell_type": "code",
   "execution_count": 176,
   "id": "e05bbade",
   "metadata": {},
   "outputs": [],
   "source": [
    "#deletar a tabela temporária\n",
    "SQL_DW.execute(\"DROP TABLE tempOcorrencias\")\n",
    "\n",
    "#Confirmar a transação\n",
    "conexaoDW.commit()"
   ]
  },
  {
   "cell_type": "markdown",
   "id": "e4f46186",
   "metadata": {},
   "source": [
    "# FECHANDO A CONEXÃO COM O DW"
   ]
  },
  {
   "cell_type": "code",
   "execution_count": 177,
   "id": "e08ec8fe",
   "metadata": {},
   "outputs": [],
   "source": [
    "#Fechar a conexão\n",
    "conexaoDW.close()"
   ]
  },
  {
   "cell_type": "code",
   "execution_count": null,
   "id": "2aee9e44",
   "metadata": {},
   "outputs": [],
   "source": []
  }
 ],
 "metadata": {
  "kernelspec": {
   "display_name": "Python 3 (ipykernel)",
   "language": "python",
   "name": "python3"
  },
  "language_info": {
   "codemirror_mode": {
    "name": "ipython",
    "version": 3
   },
   "file_extension": ".py",
   "mimetype": "text/x-python",
   "name": "python",
   "nbconvert_exporter": "python",
   "pygments_lexer": "ipython3",
   "version": "3.9.7"
  }
 },
 "nbformat": 4,
 "nbformat_minor": 5
}
